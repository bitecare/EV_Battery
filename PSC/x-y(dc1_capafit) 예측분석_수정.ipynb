{
 "cells": [
  {
   "cell_type": "markdown",
   "id": "cb49cce7",
   "metadata": {},
   "source": [
    "# x와 y( dc1_capafit) 예측"
   ]
  },
  {
   "cell_type": "code",
   "execution_count": 1,
   "id": "86e8e7c4",
   "metadata": {},
   "outputs": [],
   "source": [
    "import pandas as pd\n",
    "import matplotlib.pyplot as plt\n",
    "import seaborn as sns\n",
    "import matplotlib\n",
    "\n",
    "from matplotlib import font_manager, rc"
   ]
  },
  {
   "cell_type": "code",
   "execution_count": 2,
   "id": "552c0b6c",
   "metadata": {},
   "outputs": [],
   "source": [
    "# 실행결과 경고메시지 출력 제외\n",
    "import warnings\n",
    "warnings.filterwarnings('ignore')"
   ]
  },
  {
   "cell_type": "code",
   "execution_count": 3,
   "id": "584b798c",
   "metadata": {},
   "outputs": [],
   "source": [
    "#그래프 옵션 지정\n",
    "# 그래프 한글폰트 적용:맑은 고딕\n",
    "matplotlib.rc(\"font\", family = \"NanumGothic\")\n",
    "# 그래프 (-) 기호 표시\n",
    "matplotlib.rc(\"axes\", unicode_minus = False)\n",
    "\n",
    "sns.set_palette('pastel')"
   ]
  },
  {
   "cell_type": "code",
   "execution_count": 4,
   "id": "7bd7d830",
   "metadata": {},
   "outputs": [
    {
     "data": {
      "text/html": [
       "<div>\n",
       "<style scoped>\n",
       "    .dataframe tbody tr th:only-of-type {\n",
       "        vertical-align: middle;\n",
       "    }\n",
       "\n",
       "    .dataframe tbody tr th {\n",
       "        vertical-align: top;\n",
       "    }\n",
       "\n",
       "    .dataframe thead th {\n",
       "        text-align: right;\n",
       "    }\n",
       "</style>\n",
       "<table border=\"1\" class=\"dataframe\">\n",
       "  <thead>\n",
       "    <tr style=\"text-align: right;\">\n",
       "      <th></th>\n",
       "      <th>lot_id</th>\n",
       "      <th>tray_id</th>\n",
       "      <th>rta1_tat</th>\n",
       "      <th>hta1_tat</th>\n",
       "      <th>rta2_tat</th>\n",
       "      <th>ocv1_tat</th>\n",
       "      <th>c1_tat</th>\n",
       "      <th>dc1_tat</th>\n",
       "      <th>c2_tat</th>\n",
       "      <th>dc2_tat</th>\n",
       "      <th>...</th>\n",
       "      <th>sa3_box_row</th>\n",
       "      <th>sa3_box_dan</th>\n",
       "      <th>socv3_ocv</th>\n",
       "      <th>ocv2_deltaocv</th>\n",
       "      <th>ocv1_deltaocv</th>\n",
       "      <th>m1_thick</th>\n",
       "      <th>m1_voltage</th>\n",
       "      <th>m1_res_ac</th>\n",
       "      <th>m1_mv</th>\n",
       "      <th>m1_voltage_an</th>\n",
       "    </tr>\n",
       "  </thead>\n",
       "  <tbody>\n",
       "    <tr>\n",
       "      <th>0</th>\n",
       "      <td>LOT-100</td>\n",
       "      <td>TRAY-1002</td>\n",
       "      <td>217709</td>\n",
       "      <td>86476</td>\n",
       "      <td>4524</td>\n",
       "      <td>118</td>\n",
       "      <td>3580</td>\n",
       "      <td>405</td>\n",
       "      <td>453</td>\n",
       "      <td>405</td>\n",
       "      <td>...</td>\n",
       "      <td>54연</td>\n",
       "      <td>10단</td>\n",
       "      <td>3759.6</td>\n",
       "      <td>5.0</td>\n",
       "      <td>6.8</td>\n",
       "      <td>4709.0</td>\n",
       "      <td>37583.0</td>\n",
       "      <td>92.0</td>\n",
       "      <td>626.0</td>\n",
       "      <td>109.0</td>\n",
       "    </tr>\n",
       "    <tr>\n",
       "      <th>1</th>\n",
       "      <td>LOT-100</td>\n",
       "      <td>TRAY-1002</td>\n",
       "      <td>217709</td>\n",
       "      <td>86476</td>\n",
       "      <td>4524</td>\n",
       "      <td>118</td>\n",
       "      <td>3580</td>\n",
       "      <td>405</td>\n",
       "      <td>453</td>\n",
       "      <td>405</td>\n",
       "      <td>...</td>\n",
       "      <td>54연</td>\n",
       "      <td>10단</td>\n",
       "      <td>3760.4</td>\n",
       "      <td>5.1</td>\n",
       "      <td>6.8</td>\n",
       "      <td>4712.0</td>\n",
       "      <td>37591.0</td>\n",
       "      <td>92.0</td>\n",
       "      <td>606.0</td>\n",
       "      <td>5.0</td>\n",
       "    </tr>\n",
       "    <tr>\n",
       "      <th>2</th>\n",
       "      <td>LOT-100</td>\n",
       "      <td>TRAY-1002</td>\n",
       "      <td>217709</td>\n",
       "      <td>86476</td>\n",
       "      <td>4524</td>\n",
       "      <td>118</td>\n",
       "      <td>3580</td>\n",
       "      <td>405</td>\n",
       "      <td>453</td>\n",
       "      <td>405</td>\n",
       "      <td>...</td>\n",
       "      <td>54연</td>\n",
       "      <td>10단</td>\n",
       "      <td>3760.4</td>\n",
       "      <td>4.9</td>\n",
       "      <td>6.7</td>\n",
       "      <td>4737.0</td>\n",
       "      <td>37594.0</td>\n",
       "      <td>92.0</td>\n",
       "      <td>566.0</td>\n",
       "      <td>-10.0</td>\n",
       "    </tr>\n",
       "    <tr>\n",
       "      <th>3</th>\n",
       "      <td>LOT-100</td>\n",
       "      <td>TRAY-1002</td>\n",
       "      <td>217709</td>\n",
       "      <td>86476</td>\n",
       "      <td>4524</td>\n",
       "      <td>118</td>\n",
       "      <td>3580</td>\n",
       "      <td>405</td>\n",
       "      <td>453</td>\n",
       "      <td>405</td>\n",
       "      <td>...</td>\n",
       "      <td>54연</td>\n",
       "      <td>10단</td>\n",
       "      <td>3759.0</td>\n",
       "      <td>5.1</td>\n",
       "      <td>6.9</td>\n",
       "      <td>4709.0</td>\n",
       "      <td>37578.0</td>\n",
       "      <td>92.0</td>\n",
       "      <td>606.0</td>\n",
       "      <td>111.0</td>\n",
       "    </tr>\n",
       "    <tr>\n",
       "      <th>4</th>\n",
       "      <td>LOT-100</td>\n",
       "      <td>TRAY-1002</td>\n",
       "      <td>217709</td>\n",
       "      <td>86476</td>\n",
       "      <td>4524</td>\n",
       "      <td>118</td>\n",
       "      <td>3580</td>\n",
       "      <td>405</td>\n",
       "      <td>453</td>\n",
       "      <td>405</td>\n",
       "      <td>...</td>\n",
       "      <td>54연</td>\n",
       "      <td>10단</td>\n",
       "      <td>3759.0</td>\n",
       "      <td>5.0</td>\n",
       "      <td>6.7</td>\n",
       "      <td>4706.0</td>\n",
       "      <td>37577.0</td>\n",
       "      <td>93.0</td>\n",
       "      <td>606.0</td>\n",
       "      <td>-38.0</td>\n",
       "    </tr>\n",
       "    <tr>\n",
       "      <th>...</th>\n",
       "      <td>...</td>\n",
       "      <td>...</td>\n",
       "      <td>...</td>\n",
       "      <td>...</td>\n",
       "      <td>...</td>\n",
       "      <td>...</td>\n",
       "      <td>...</td>\n",
       "      <td>...</td>\n",
       "      <td>...</td>\n",
       "      <td>...</td>\n",
       "      <td>...</td>\n",
       "      <td>...</td>\n",
       "      <td>...</td>\n",
       "      <td>...</td>\n",
       "      <td>...</td>\n",
       "      <td>...</td>\n",
       "      <td>...</td>\n",
       "      <td>...</td>\n",
       "      <td>...</td>\n",
       "      <td>...</td>\n",
       "      <td>...</td>\n",
       "    </tr>\n",
       "    <tr>\n",
       "      <th>31014</th>\n",
       "      <td>LOT-144</td>\n",
       "      <td>TRAY-2791</td>\n",
       "      <td>152836</td>\n",
       "      <td>87334</td>\n",
       "      <td>156490</td>\n",
       "      <td>118</td>\n",
       "      <td>3553</td>\n",
       "      <td>405</td>\n",
       "      <td>451</td>\n",
       "      <td>405</td>\n",
       "      <td>...</td>\n",
       "      <td>16연</td>\n",
       "      <td>13단</td>\n",
       "      <td>3759.2</td>\n",
       "      <td>5.3</td>\n",
       "      <td>7.2</td>\n",
       "      <td>4745.0</td>\n",
       "      <td>37583.0</td>\n",
       "      <td>94.0</td>\n",
       "      <td>643.0</td>\n",
       "      <td>-35.0</td>\n",
       "    </tr>\n",
       "    <tr>\n",
       "      <th>31015</th>\n",
       "      <td>LOT-144</td>\n",
       "      <td>TRAY-2791</td>\n",
       "      <td>152836</td>\n",
       "      <td>87334</td>\n",
       "      <td>156490</td>\n",
       "      <td>118</td>\n",
       "      <td>3553</td>\n",
       "      <td>405</td>\n",
       "      <td>451</td>\n",
       "      <td>405</td>\n",
       "      <td>...</td>\n",
       "      <td>16연</td>\n",
       "      <td>13단</td>\n",
       "      <td>3759.2</td>\n",
       "      <td>5.3</td>\n",
       "      <td>7.1</td>\n",
       "      <td>4746.0</td>\n",
       "      <td>37583.0</td>\n",
       "      <td>94.0</td>\n",
       "      <td>620.0</td>\n",
       "      <td>89.0</td>\n",
       "    </tr>\n",
       "    <tr>\n",
       "      <th>31016</th>\n",
       "      <td>LOT-144</td>\n",
       "      <td>TRAY-2791</td>\n",
       "      <td>152836</td>\n",
       "      <td>87334</td>\n",
       "      <td>156490</td>\n",
       "      <td>118</td>\n",
       "      <td>3553</td>\n",
       "      <td>405</td>\n",
       "      <td>451</td>\n",
       "      <td>405</td>\n",
       "      <td>...</td>\n",
       "      <td>16연</td>\n",
       "      <td>13단</td>\n",
       "      <td>3760.3</td>\n",
       "      <td>5.2</td>\n",
       "      <td>7.0</td>\n",
       "      <td>4782.0</td>\n",
       "      <td>37595.0</td>\n",
       "      <td>92.0</td>\n",
       "      <td>597.0</td>\n",
       "      <td>-23.0</td>\n",
       "    </tr>\n",
       "    <tr>\n",
       "      <th>31017</th>\n",
       "      <td>LOT-144</td>\n",
       "      <td>TRAY-2791</td>\n",
       "      <td>152836</td>\n",
       "      <td>87334</td>\n",
       "      <td>156490</td>\n",
       "      <td>118</td>\n",
       "      <td>3553</td>\n",
       "      <td>405</td>\n",
       "      <td>451</td>\n",
       "      <td>405</td>\n",
       "      <td>...</td>\n",
       "      <td>16연</td>\n",
       "      <td>13단</td>\n",
       "      <td>3760.0</td>\n",
       "      <td>5.3</td>\n",
       "      <td>7.0</td>\n",
       "      <td>4751.0</td>\n",
       "      <td>37590.0</td>\n",
       "      <td>95.0</td>\n",
       "      <td>620.0</td>\n",
       "      <td>3.0</td>\n",
       "    </tr>\n",
       "    <tr>\n",
       "      <th>31018</th>\n",
       "      <td>LOT-144</td>\n",
       "      <td>TRAY-2791</td>\n",
       "      <td>152836</td>\n",
       "      <td>87334</td>\n",
       "      <td>156490</td>\n",
       "      <td>118</td>\n",
       "      <td>3553</td>\n",
       "      <td>405</td>\n",
       "      <td>451</td>\n",
       "      <td>405</td>\n",
       "      <td>...</td>\n",
       "      <td>16연</td>\n",
       "      <td>13단</td>\n",
       "      <td>3760.0</td>\n",
       "      <td>5.3</td>\n",
       "      <td>7.1</td>\n",
       "      <td>4792.0</td>\n",
       "      <td>37592.0</td>\n",
       "      <td>94.0</td>\n",
       "      <td>597.0</td>\n",
       "      <td>56.0</td>\n",
       "    </tr>\n",
       "  </tbody>\n",
       "</table>\n",
       "<p>31019 rows × 130 columns</p>\n",
       "</div>"
      ],
      "text/plain": [
       "        lot_id    tray_id  rta1_tat  hta1_tat  rta2_tat  ocv1_tat  c1_tat  \\\n",
       "0      LOT-100  TRAY-1002    217709     86476      4524       118    3580   \n",
       "1      LOT-100  TRAY-1002    217709     86476      4524       118    3580   \n",
       "2      LOT-100  TRAY-1002    217709     86476      4524       118    3580   \n",
       "3      LOT-100  TRAY-1002    217709     86476      4524       118    3580   \n",
       "4      LOT-100  TRAY-1002    217709     86476      4524       118    3580   \n",
       "...        ...        ...       ...       ...       ...       ...     ...   \n",
       "31014  LOT-144  TRAY-2791    152836     87334    156490       118    3553   \n",
       "31015  LOT-144  TRAY-2791    152836     87334    156490       118    3553   \n",
       "31016  LOT-144  TRAY-2791    152836     87334    156490       118    3553   \n",
       "31017  LOT-144  TRAY-2791    152836     87334    156490       118    3553   \n",
       "31018  LOT-144  TRAY-2791    152836     87334    156490       118    3553   \n",
       "\n",
       "       dc1_tat  c2_tat  dc2_tat  ...  sa3_box_row  sa3_box_dan  socv3_ocv  \\\n",
       "0          405     453      405  ...          54연          10단     3759.6   \n",
       "1          405     453      405  ...          54연          10단     3760.4   \n",
       "2          405     453      405  ...          54연          10단     3760.4   \n",
       "3          405     453      405  ...          54연          10단     3759.0   \n",
       "4          405     453      405  ...          54연          10단     3759.0   \n",
       "...        ...     ...      ...  ...          ...          ...        ...   \n",
       "31014      405     451      405  ...          16연          13단     3759.2   \n",
       "31015      405     451      405  ...          16연          13단     3759.2   \n",
       "31016      405     451      405  ...          16연          13단     3760.3   \n",
       "31017      405     451      405  ...          16연          13단     3760.0   \n",
       "31018      405     451      405  ...          16연          13단     3760.0   \n",
       "\n",
       "       ocv2_deltaocv  ocv1_deltaocv  m1_thick  m1_voltage  m1_res_ac  m1_mv  \\\n",
       "0                5.0            6.8    4709.0     37583.0       92.0  626.0   \n",
       "1                5.1            6.8    4712.0     37591.0       92.0  606.0   \n",
       "2                4.9            6.7    4737.0     37594.0       92.0  566.0   \n",
       "3                5.1            6.9    4709.0     37578.0       92.0  606.0   \n",
       "4                5.0            6.7    4706.0     37577.0       93.0  606.0   \n",
       "...              ...            ...       ...         ...        ...    ...   \n",
       "31014            5.3            7.2    4745.0     37583.0       94.0  643.0   \n",
       "31015            5.3            7.1    4746.0     37583.0       94.0  620.0   \n",
       "31016            5.2            7.0    4782.0     37595.0       92.0  597.0   \n",
       "31017            5.3            7.0    4751.0     37590.0       95.0  620.0   \n",
       "31018            5.3            7.1    4792.0     37592.0       94.0  597.0   \n",
       "\n",
       "       m1_voltage_an  \n",
       "0              109.0  \n",
       "1                5.0  \n",
       "2              -10.0  \n",
       "3              111.0  \n",
       "4              -38.0  \n",
       "...              ...  \n",
       "31014          -35.0  \n",
       "31015           89.0  \n",
       "31016          -23.0  \n",
       "31017            3.0  \n",
       "31018           56.0  \n",
       "\n",
       "[31019 rows x 130 columns]"
      ]
     },
     "execution_count": 4,
     "metadata": {},
     "output_type": "execute_result"
    }
   ],
   "source": [
    "df = pd.read_csv(\"data_fin.csv\")\n",
    "df"
   ]
  },
  {
   "cell_type": "code",
   "execution_count": 5,
   "id": "d0b3bfbc",
   "metadata": {},
   "outputs": [
    {
     "data": {
      "text/plain": [
       "['c1_tat',\n",
       " 'dc1_tat',\n",
       " 'pc1_tat',\n",
       " 'c1_curr_end',\n",
       " 'c1_voltage_avg',\n",
       " 'c1_capa',\n",
       " 'c1_ccval',\n",
       " 'c1_time_cc',\n",
       " 'c1_box_col',\n",
       " 'c1_box_dan',\n",
       " 'c1_temp_avg',\n",
       " 'dc1_curr_end',\n",
       " 'dc1_voltage_avg',\n",
       " 'dc1_capa',\n",
       " 'dc1_box_col',\n",
       " 'dc1_box_dan',\n",
       " 'dc1_temp_avg',\n",
       " 'dc1_capafit',\n",
       " 'pc1_imp',\n",
       " 'pc1_voltage_start',\n",
       " 'pc1_curr_end',\n",
       " 'pc1_box_col',\n",
       " 'pc1_box_dan']"
      ]
     },
     "execution_count": 5,
     "metadata": {},
     "output_type": "execute_result"
    }
   ],
   "source": [
    "c1_columns = [col for col in df.columns if 'c1' in col]\n",
    "\n",
    "c1_columns"
   ]
  },
  {
   "cell_type": "code",
   "execution_count": 6,
   "id": "214cfd57",
   "metadata": {},
   "outputs": [
    {
     "data": {
      "text/plain": [
       "['dc1_tat',\n",
       " 'dc1_curr_end',\n",
       " 'dc1_voltage_avg',\n",
       " 'dc1_capa',\n",
       " 'dc1_box_col',\n",
       " 'dc1_box_dan',\n",
       " 'dc1_temp_avg',\n",
       " 'dc1_capafit']"
      ]
     },
     "execution_count": 6,
     "metadata": {},
     "output_type": "execute_result"
    }
   ],
   "source": [
    "dc1_columns = [col for col in df.columns if 'dc1' in col]\n",
    "\n",
    "dc1_columns"
   ]
  },
  {
   "cell_type": "code",
   "execution_count": 7,
   "id": "6b91d927",
   "metadata": {},
   "outputs": [
    {
     "data": {
      "text/plain": [
       "['c2_tat',\n",
       " 'dc2_tat',\n",
       " 'c2_curr_end',\n",
       " 'c2_voltage_avg',\n",
       " 'c2_capa',\n",
       " 'c2_ccval',\n",
       " 'c2_time_cc',\n",
       " 'c2_box_col',\n",
       " 'c2_box_dan',\n",
       " 'c2_temp_avg',\n",
       " 'dc2_curr_end',\n",
       " 'dc2_voltage_avg',\n",
       " 'dc2_capa',\n",
       " 'dc2_box_col',\n",
       " 'dc2_box_dan',\n",
       " 'dc2_temp_avg',\n",
       " 'dc2_capafit']"
      ]
     },
     "execution_count": 7,
     "metadata": {},
     "output_type": "execute_result"
    }
   ],
   "source": [
    "c2_columns = [col for col in df.columns if 'c2' in col]\n",
    "\n",
    "c2_columns"
   ]
  },
  {
   "cell_type": "code",
   "execution_count": 8,
   "id": "db75787c",
   "metadata": {
    "scrolled": true
   },
   "outputs": [
    {
     "data": {
      "text/plain": [
       "['dc2_tat',\n",
       " 'dc2_curr_end',\n",
       " 'dc2_voltage_avg',\n",
       " 'dc2_capa',\n",
       " 'dc2_box_col',\n",
       " 'dc2_box_dan',\n",
       " 'dc2_temp_avg',\n",
       " 'dc2_capafit']"
      ]
     },
     "execution_count": 8,
     "metadata": {},
     "output_type": "execute_result"
    }
   ],
   "source": [
    "dc2_columns = [col for col in df.columns if 'dc2' in col]\n",
    "\n",
    "dc2_columns"
   ]
  },
  {
   "cell_type": "code",
   "execution_count": 9,
   "id": "22197f93",
   "metadata": {},
   "outputs": [
    {
     "data": {
      "text/plain": [
       "['c3_tat',\n",
       " 'dc3_tat',\n",
       " 'c3_curr_end',\n",
       " 'c3_voltage_avg',\n",
       " 'c3_capa',\n",
       " 'c3_ccval',\n",
       " 'c3_time_cv',\n",
       " 'c3_cvval',\n",
       " 'c3_time_cc',\n",
       " 'c3_box_col',\n",
       " 'c3_box_dan',\n",
       " 'c3_temp_avg',\n",
       " 'dc3_curr_end',\n",
       " 'dc3_voltage_avg',\n",
       " 'dc3_capa',\n",
       " 'dc3_box_col',\n",
       " 'dc3_box_dan',\n",
       " 'dc3_temp_avg',\n",
       " 'dc3_capafit']"
      ]
     },
     "execution_count": 9,
     "metadata": {},
     "output_type": "execute_result"
    }
   ],
   "source": [
    "c3_columns = [col for col in df.columns if 'c3' in col]\n",
    "\n",
    "c3_columns"
   ]
  },
  {
   "cell_type": "code",
   "execution_count": 10,
   "id": "e2fcd4dd",
   "metadata": {},
   "outputs": [
    {
     "data": {
      "text/plain": [
       "['dc3_tat',\n",
       " 'dc3_curr_end',\n",
       " 'dc3_voltage_avg',\n",
       " 'dc3_capa',\n",
       " 'dc3_box_col',\n",
       " 'dc3_box_dan',\n",
       " 'dc3_temp_avg',\n",
       " 'dc3_capafit']"
      ]
     },
     "execution_count": 10,
     "metadata": {},
     "output_type": "execute_result"
    }
   ],
   "source": [
    "dc3_columns = [col for col in df.columns if 'dc3' in col]\n",
    "\n",
    "dc3_columns"
   ]
  },
  {
   "cell_type": "code",
   "execution_count": 11,
   "id": "df9f8b59",
   "metadata": {},
   "outputs": [
    {
     "data": {
      "text/plain": [
       "['c4_tat',\n",
       " 'c4_curr_end',\n",
       " 'c4_voltage_avg',\n",
       " 'c4_capa',\n",
       " 'c4_ccval',\n",
       " 'c4_time_cv',\n",
       " 'c4_cvval',\n",
       " 'c4_time_cc',\n",
       " 'c4_box_col',\n",
       " 'c4_box_dan',\n",
       " 'c4_temp_avg']"
      ]
     },
     "execution_count": 11,
     "metadata": {},
     "output_type": "execute_result"
    }
   ],
   "source": [
    "c4_columns = [col for col in df.columns if 'c4' in col]\n",
    "\n",
    "c4_columns"
   ]
  },
  {
   "cell_type": "markdown",
   "id": "4513c816",
   "metadata": {},
   "source": [
    "## x(c1 공정 변수들)와 y(dc1_capafit) 예측"
   ]
  },
  {
   "cell_type": "code",
   "execution_count": 12,
   "id": "3af75f8f",
   "metadata": {},
   "outputs": [],
   "source": [
    "x= ['c1_curr_end','c1_voltage_avg','c1_ccval','c1_time_cc','c1_temp_avg']\n",
    "y= 'dc1_capafit'"
   ]
  },
  {
   "cell_type": "markdown",
   "id": "eced5e15",
   "metadata": {},
   "source": [
    "## GB"
   ]
  },
  {
   "cell_type": "code",
   "execution_count": 13,
   "id": "b773bc1d",
   "metadata": {},
   "outputs": [],
   "source": [
    "# 데이터 구성:Series, DataFrame\n",
    "import pandas as pd\n",
    "# 데이터 시각화\n",
    "import matplotlib.pyplot as plt\n",
    "import matplotlib\n",
    "\n",
    "# 데이터 분할:train, test\n",
    "from sklearn.model_selection import train_test_split\n",
    "# 분류 Gradient Boosting\n",
    "from sklearn.ensemble import GradientBoostingRegressor\n",
    "# 최적 모델, 파라미터 탐색\n",
    "from sklearn.model_selection import GridSearchCV\n"
   ]
  },
  {
   "cell_type": "code",
   "execution_count": 14,
   "id": "c367d867",
   "metadata": {},
   "outputs": [],
   "source": [
    "# 설명변수, 목표변수 데이터 구분\n",
    "df_x = df[['c1_curr_end','c1_voltage_avg','c1_ccval','c1_time_cc','c1_temp_avg']]\n",
    "df_y = df['dc1_capafit'] "
   ]
  },
  {
   "cell_type": "code",
   "execution_count": 15,
   "id": "f50542dc",
   "metadata": {},
   "outputs": [
    {
     "name": "stdout",
     "output_type": "stream",
     "text": [
      "분할 전 설명변수 데이터 : (31019, 5)\n",
      "분할 후 설명변수 데이터 :Train (21713, 5)   Test (9306, 5)\n"
     ]
    }
   ],
   "source": [
    "# 데이터 분할 train_test_split(X: 설명변수, Y: 목표변수, test_size = test 데이터 비율)\n",
    "df_train_x, df_test_x, df_train_y, df_test_y = train_test_split(\n",
    "    df_x, df_y, test_size=0.3, random_state=1234)\n",
    "\n",
    "print(\"분할 전 설명변수 데이터 :\", df_x.shape)\n",
    "print(\"분할 후 설명변수 데이터 :Train\", df_train_x.shape, \"  Test\",df_test_x.shape)"
   ]
  },
  {
   "cell_type": "code",
   "execution_count": 16,
   "id": "3200ef5a",
   "metadata": {},
   "outputs": [
    {
     "name": "stdout",
     "output_type": "stream",
     "text": [
      "Score on training set: 0.952\n",
      "Score on test set: 0.952\n"
     ]
    }
   ],
   "source": [
    "# 그래디언트 부스팅 모델 생성: GradientBoostingClassifier\n",
    "gb_uncustomized = GradientBoostingRegressor(random_state=1234)\n",
    "gb_uncustomized.fit(df_train_x, df_train_y)\n",
    "\n",
    "# Train 데이터 설명력\n",
    "print(\"Score on training set: {:.3f}\".format(gb_uncustomized.score (df_train_x, df_train_y)))\n",
    "# Test 데이터 설명력\n",
    "print(\"Score on test set: {:.3f}\".format(gb_uncustomized.score (df_test_x, df_test_y)))"
   ]
  },
  {
   "cell_type": "code",
   "execution_count": 17,
   "id": "f5ad8904",
   "metadata": {},
   "outputs": [
    {
     "data": {
      "text/plain": [
       "{'alpha': 0.9,\n",
       " 'ccp_alpha': 0.0,\n",
       " 'criterion': 'friedman_mse',\n",
       " 'init': None,\n",
       " 'learning_rate': 0.1,\n",
       " 'loss': 'squared_error',\n",
       " 'max_depth': 3,\n",
       " 'max_features': None,\n",
       " 'max_leaf_nodes': None,\n",
       " 'min_impurity_decrease': 0.0,\n",
       " 'min_samples_leaf': 1,\n",
       " 'min_samples_split': 2,\n",
       " 'min_weight_fraction_leaf': 0.0,\n",
       " 'n_estimators': 100,\n",
       " 'n_iter_no_change': None,\n",
       " 'random_state': 1234,\n",
       " 'subsample': 1.0,\n",
       " 'tol': 0.0001,\n",
       " 'validation_fraction': 0.1,\n",
       " 'verbose': 0,\n",
       " 'warm_start': False}"
      ]
     },
     "execution_count": 17,
     "metadata": {},
     "output_type": "execute_result"
    }
   ],
   "source": [
    "# 실행옵션 확인\n",
    "gb_uncustomized.get_params()"
   ]
  },
  {
   "cell_type": "code",
   "execution_count": 18,
   "id": "eb43653c",
   "metadata": {},
   "outputs": [
    {
     "name": "stdout",
     "output_type": "stream",
     "text": [
      "Score on training set: 0.952\n",
      "Score on test set: 0.952\n"
     ]
    }
   ],
   "source": [
    "# 최종모델 선택\n",
    "gb_final = gb_uncustomized \n",
    "gb_final.fit(df_train_x, df_train_y)\n",
    "# Train 데이터 설명력\n",
    "print(\"Score on training set: {:.3f}\".format(gb_final.score(df_train_x, df_train_y)))\n",
    "# Test 데이터 설명력\n",
    "print(\"Score on test set: {:.3f}\".format(gb_final.score(df_test_x, df_test_y)))"
   ]
  },
  {
   "cell_type": "code",
   "execution_count": 19,
   "id": "276aaeb0",
   "metadata": {},
   "outputs": [
    {
     "name": "stdout",
     "output_type": "stream",
     "text": [
      "test data의 실제값 : \n",
      " 27614    535\n",
      "19622    534\n",
      "30689    536\n",
      "8494     534\n",
      "1989     533\n",
      "18935    546\n",
      "16691    537\n",
      "8784     533\n",
      "3933     536\n",
      "9852     532\n",
      "Name: dc1_capafit, dtype: int64\n",
      "test data의 예측값 : \n",
      " [535.2112633  533.80661455 538.03971479 532.5860787  532.42209652\n",
      " 544.70656328 537.76597286 533.85818787 536.11509411 533.15427309]\n"
     ]
    }
   ],
   "source": [
    "# 평가용 데이터에 대한 실제값과 예측값 확인(10개 확인)\n",
    "test_pred =gb_final.predict(df_test_x)\n",
    "print('test data의 실제값 : \\n', df_test_y[:10])\n",
    "print('test data의 예측값 : \\n', test_pred[:10])"
   ]
  },
  {
   "cell_type": "code",
   "execution_count": 20,
   "id": "26984278",
   "metadata": {},
   "outputs": [
    {
     "data": {
      "text/html": [
       "<div>\n",
       "<style scoped>\n",
       "    .dataframe tbody tr th:only-of-type {\n",
       "        vertical-align: middle;\n",
       "    }\n",
       "\n",
       "    .dataframe tbody tr th {\n",
       "        vertical-align: top;\n",
       "    }\n",
       "\n",
       "    .dataframe thead th {\n",
       "        text-align: right;\n",
       "    }\n",
       "</style>\n",
       "<table border=\"1\" class=\"dataframe\">\n",
       "  <thead>\n",
       "    <tr style=\"text-align: right;\">\n",
       "      <th></th>\n",
       "      <th>Feature</th>\n",
       "      <th>Importance</th>\n",
       "    </tr>\n",
       "  </thead>\n",
       "  <tbody>\n",
       "    <tr>\n",
       "      <th>4</th>\n",
       "      <td>c1_temp_avg</td>\n",
       "      <td>0.995</td>\n",
       "    </tr>\n",
       "    <tr>\n",
       "      <th>1</th>\n",
       "      <td>c1_voltage_avg</td>\n",
       "      <td>0.003</td>\n",
       "    </tr>\n",
       "    <tr>\n",
       "      <th>2</th>\n",
       "      <td>c1_ccval</td>\n",
       "      <td>0.001</td>\n",
       "    </tr>\n",
       "    <tr>\n",
       "      <th>3</th>\n",
       "      <td>c1_time_cc</td>\n",
       "      <td>0.001</td>\n",
       "    </tr>\n",
       "    <tr>\n",
       "      <th>0</th>\n",
       "      <td>c1_curr_end</td>\n",
       "      <td>0.000</td>\n",
       "    </tr>\n",
       "  </tbody>\n",
       "</table>\n",
       "</div>"
      ],
      "text/plain": [
       "          Feature  Importance\n",
       "4     c1_temp_avg       0.995\n",
       "1  c1_voltage_avg       0.003\n",
       "2        c1_ccval       0.001\n",
       "3      c1_time_cc       0.001\n",
       "0     c1_curr_end       0.000"
      ]
     },
     "execution_count": 20,
     "metadata": {},
     "output_type": "execute_result"
    }
   ],
   "source": [
    "# feature_importances_: 설명변수의 중요도\n",
    "v_feature_name = df_train_x.columns\n",
    "\n",
    "# tree.feature_importances_로 설명변수 중요도 확인 및 테이블로 저장\n",
    "df_importance = pd.DataFrame()\n",
    "df_importance[\"Feature\"] = v_feature_name\n",
    "df_importance[\"Importance\"] = gb_final.feature_importances_\n",
    "# df_feature_importance의 테이블을 중요도별로 정렬\n",
    "df_importance.sort_values(\"Importance\", ascending=False, inplace = True)\n",
    "df_importance.round(3)"
   ]
  },
  {
   "cell_type": "code",
   "execution_count": 21,
   "id": "2b62021a",
   "metadata": {},
   "outputs": [
    {
     "data": {
      "text/plain": [
       "Text(0, 0.5, '변수')"
      ]
     },
     "execution_count": 21,
     "metadata": {},
     "output_type": "execute_result"
    },
    {
     "data": {
      "image/png": "[encoded data removed]",
      "text/plain": [
       "<Figure size 640x480 with 1 Axes>"
      ]
     },
     "metadata": {},
     "output_type": "display_data"
    }
   ],
   "source": [
    "# 중요도가 높은 변수를 상위에 그림. \n",
    "df_importance.sort_values(\"Importance\", ascending=True, inplace = True)\n",
    "coordinates = range(len(df_importance))\n",
    "plt.barh(y = coordinates, width = df_importance[\"Importance\"])\n",
    "plt.yticks(coordinates, df_importance[\"Feature\"])\n",
    "plt.xlabel(\"변수 중요도\")\n",
    "plt.ylabel(\"변수\")"
   ]
  },
  {
   "cell_type": "markdown",
   "id": "03c55a10",
   "metadata": {},
   "source": [
    "## RF"
   ]
  },
  {
   "cell_type": "code",
   "execution_count": 22,
   "id": "52979427",
   "metadata": {},
   "outputs": [],
   "source": [
    "# 데이터 구성:Series, DataFrame\n",
    "import pandas as pd\n",
    "# 데이터 시각화\n",
    "import matplotlib.pyplot as plt\n",
    "import matplotlib\n",
    "# export_graphviz: 나무 구조 생성 및 저장 \n",
    "from sklearn.tree import export_graphviz\n",
    "# graphviz : 나무 구조 시각화  (.dot 확장자 파일 불러오기 등)\n",
    "import graphviz\n",
    "# 데이터 분할:train, test\n",
    "from sklearn.model_selection import train_test_split\n",
    "# 예측/회귀 Random Forest\n",
    "from sklearn.ensemble import RandomForestRegressor\n",
    "# 최적 모델, 파라미터 탐색\n",
    "from sklearn.model_selection import GridSearchCV"
   ]
  },
  {
   "cell_type": "code",
   "execution_count": 23,
   "id": "2cd72894",
   "metadata": {},
   "outputs": [
    {
     "name": "stdout",
     "output_type": "stream",
     "text": [
      "분할 전 설명변수 데이터 : (31019, 5)\n",
      "분할 후 설명변수 데이터 :Train (21713, 5)   Test (9306, 5)\n"
     ]
    }
   ],
   "source": [
    "print(\"분할 전 설명변수 데이터 :\", df_x.shape)\n",
    "print(\"분할 후 설명변수 데이터 :Train\", df_train_x.shape, \"  Test\",df_test_x.shape)"
   ]
  },
  {
   "cell_type": "code",
   "execution_count": 24,
   "id": "4b54c9cf",
   "metadata": {},
   "outputs": [
    {
     "name": "stdout",
     "output_type": "stream",
     "text": [
      "Score on training set: 0.990\n",
      "Score on test set: 0.948\n"
     ]
    }
   ],
   "source": [
    "rf_uncustomized = RandomForestRegressor(random_state=1234)\n",
    "rf_uncustomized.fit(df_train_x, df_train_y)\n",
    "# Train 데이터 설명력\n",
    "print(\"Score on training set: {:.3f}\".format(rf_uncustomized.score(df_train_x, df_train_y)))\n",
    "# Test 데이터 설명력\n",
    "print(\"Score on test set: {:.3f}\".format(rf_uncustomized.score(df_test_x, df_test_y)))"
   ]
  },
  {
   "cell_type": "code",
   "execution_count": 25,
   "id": "c6432ba5",
   "metadata": {},
   "outputs": [
    {
     "data": {
      "text/plain": [
       "{'bootstrap': True,\n",
       " 'ccp_alpha': 0.0,\n",
       " 'criterion': 'squared_error',\n",
       " 'max_depth': None,\n",
       " 'max_features': 1.0,\n",
       " 'max_leaf_nodes': None,\n",
       " 'max_samples': None,\n",
       " 'min_impurity_decrease': 0.0,\n",
       " 'min_samples_leaf': 1,\n",
       " 'min_samples_split': 2,\n",
       " 'min_weight_fraction_leaf': 0.0,\n",
       " 'n_estimators': 100,\n",
       " 'n_jobs': None,\n",
       " 'oob_score': False,\n",
       " 'random_state': 1234,\n",
       " 'verbose': 0,\n",
       " 'warm_start': False}"
      ]
     },
     "execution_count": 25,
     "metadata": {},
     "output_type": "execute_result"
    }
   ],
   "source": [
    "# 실행옵션 확인\n",
    "rf_uncustomized.get_params()"
   ]
  },
  {
   "cell_type": "code",
   "execution_count": 26,
   "id": "ac3e7684",
   "metadata": {},
   "outputs": [
    {
     "name": "stdout",
     "output_type": "stream",
     "text": [
      "Score on training set: 0.990\n",
      "Score on test set: 0.948\n"
     ]
    }
   ],
   "source": [
    "# 최종 모델\n",
    "rf_final = rf_uncustomized\n",
    "rf_final.fit(df_train_x, df_train_y)\n",
    "# Train 데이터 설명력\n",
    "print(\"Score on training set: {:.3f}\".format(rf_final.score(df_train_x, df_train_y)))\n",
    "# Test 데이터 설명력\n",
    "print(\"Score on test set: {:.3f}\".format(rf_final.score(df_test_x, df_test_y)))"
   ]
  },
  {
   "cell_type": "code",
   "execution_count": 27,
   "id": "e2027974",
   "metadata": {},
   "outputs": [
    {
     "name": "stdout",
     "output_type": "stream",
     "text": [
      "test data의 실제값 : \n",
      " 27614    535\n",
      "19622    534\n",
      "30689    536\n",
      "8494     534\n",
      "1989     533\n",
      "18935    546\n",
      "16691    537\n",
      "8784     533\n",
      "3933     536\n",
      "9852     532\n",
      "Name: dc1_capafit, dtype: int64\n",
      "test data의 예측값 : \n",
      " [534.974      534.03666667 538.0275     533.82       533.75\n",
      " 545.03       537.774      532.82433333 536.11       533.23      ]\n"
     ]
    }
   ],
   "source": [
    "# 평가용 데이터에 대한 실제값과 예측값 확인(10개 확인)\n",
    "test_pred = rf_final.predict(df_test_x)\n",
    "print('test data의 실제값 : \\n', df_test_y[:10])\n",
    "print('test data의 예측값 : \\n', test_pred[:10])"
   ]
  },
  {
   "cell_type": "code",
   "execution_count": 28,
   "id": "c7d31aeb",
   "metadata": {},
   "outputs": [
    {
     "data": {
      "text/html": [
       "<div>\n",
       "<style scoped>\n",
       "    .dataframe tbody tr th:only-of-type {\n",
       "        vertical-align: middle;\n",
       "    }\n",
       "\n",
       "    .dataframe tbody tr th {\n",
       "        vertical-align: top;\n",
       "    }\n",
       "\n",
       "    .dataframe thead th {\n",
       "        text-align: right;\n",
       "    }\n",
       "</style>\n",
       "<table border=\"1\" class=\"dataframe\">\n",
       "  <thead>\n",
       "    <tr style=\"text-align: right;\">\n",
       "      <th></th>\n",
       "      <th>Feature</th>\n",
       "      <th>Importance</th>\n",
       "    </tr>\n",
       "  </thead>\n",
       "  <tbody>\n",
       "    <tr>\n",
       "      <th>4</th>\n",
       "      <td>c1_temp_avg</td>\n",
       "      <td>0.954</td>\n",
       "    </tr>\n",
       "    <tr>\n",
       "      <th>2</th>\n",
       "      <td>c1_ccval</td>\n",
       "      <td>0.018</td>\n",
       "    </tr>\n",
       "    <tr>\n",
       "      <th>3</th>\n",
       "      <td>c1_time_cc</td>\n",
       "      <td>0.012</td>\n",
       "    </tr>\n",
       "    <tr>\n",
       "      <th>0</th>\n",
       "      <td>c1_curr_end</td>\n",
       "      <td>0.010</td>\n",
       "    </tr>\n",
       "    <tr>\n",
       "      <th>1</th>\n",
       "      <td>c1_voltage_avg</td>\n",
       "      <td>0.007</td>\n",
       "    </tr>\n",
       "  </tbody>\n",
       "</table>\n",
       "</div>"
      ],
      "text/plain": [
       "          Feature  Importance\n",
       "4     c1_temp_avg       0.954\n",
       "2        c1_ccval       0.018\n",
       "3      c1_time_cc       0.012\n",
       "0     c1_curr_end       0.010\n",
       "1  c1_voltage_avg       0.007"
      ]
     },
     "execution_count": 28,
     "metadata": {},
     "output_type": "execute_result"
    }
   ],
   "source": [
    "# 변수명\n",
    "v_feature_names = df_train_x.columns\n",
    "# tree.feature_importances_로 설명변수 중요도 확인 및 테이블로 저장\n",
    "df_importance = pd.DataFrame()\n",
    "df_importance [\"Feature\"] = v_feature_names\n",
    "df_importance [\"Importance\"] = rf_final.feature_importances_\n",
    "# df_feature_importance의 테이블을 중요도별로 정렬\n",
    "df_importance .sort_values(\"Importance\", ascending=False, inplace = True)\n",
    "df_importance .round(3)"
   ]
  },
  {
   "cell_type": "code",
   "execution_count": 29,
   "id": "11fc1081",
   "metadata": {},
   "outputs": [
    {
     "data": {
      "text/plain": [
       "Text(0, 0.5, '설명변수')"
      ]
     },
     "execution_count": 29,
     "metadata": {},
     "output_type": "execute_result"
    },
    {
     "data": {
      "image/png": "[encoded data removed]",
      "text/plain": [
       "<Figure size 640x480 with 1 Axes>"
      ]
     },
     "metadata": {},
     "output_type": "display_data"
    }
   ],
   "source": [
    "# 설명변수 중요도 그래프\n",
    "# 중요도가 높은 변수를 상위에 그림 \n",
    "df_importance .sort_values(\"Importance\", ascending=True, inplace = True)\n",
    "coordinates = range(len(df_importance ))\n",
    "plt.barh(y = coordinates, width = df_importance [\"Importance\"])\n",
    "plt.yticks(coordinates, df_importance [\"Feature\"])\n",
    "plt.xlabel(\"설명변수 중요도\")\n",
    "plt.ylabel(\"설명변수\")"
   ]
  },
  {
   "cell_type": "markdown",
   "id": "93517b24",
   "metadata": {},
   "source": [
    "## DT"
   ]
  },
  {
   "cell_type": "code",
   "execution_count": 30,
   "id": "8c5a0170",
   "metadata": {},
   "outputs": [],
   "source": [
    "# 데이터 구성:Series, DataFrame\n",
    "import pandas as pd\n",
    "# 데이터 시각화\n",
    "import matplotlib.pyplot as plt\n",
    "import matplotlib\n",
    "# export_graphviz: 나무 구조 생성 및 저장 \n",
    "from sklearn.tree import export_graphviz\n",
    "# graphviz : 나무 구조 시각화  (.dot 확장자 파일 불러오기 등)\n",
    "import graphviz\n",
    "# 데이터 분할:train, test\n",
    "from sklearn.model_selection import train_test_split\n",
    "# 예측/회귀 Decision Tree\n",
    "from sklearn.tree import DecisionTreeRegressor\n",
    "# 최적 모델, 파라미터 탐색\n",
    "from sklearn.model_selection import GridSearchCV"
   ]
  },
  {
   "cell_type": "code",
   "execution_count": 31,
   "id": "d8f5d480",
   "metadata": {},
   "outputs": [
    {
     "name": "stdout",
     "output_type": "stream",
     "text": [
      "분할 전 설명변수 데이터 : (31019, 5)\n",
      "분할 후 설명변수 데이터 :Train (21713, 5)   Test (9306, 5)\n"
     ]
    }
   ],
   "source": [
    "print(\"분할 전 설명변수 데이터 :\", df_x.shape)\n",
    "print(\"분할 후 설명변수 데이터 :Train\", df_train_x.shape, \"  Test\",df_test_x.shape)"
   ]
  },
  {
   "cell_type": "code",
   "execution_count": 32,
   "id": "519a79d8",
   "metadata": {},
   "outputs": [
    {
     "name": "stdout",
     "output_type": "stream",
     "text": [
      "Score on training set: 0.996\n",
      "Score on test set: 0.916\n"
     ]
    }
   ],
   "source": [
    "tree_uncustomized = DecisionTreeRegressor(random_state=1234)\n",
    "tree_uncustomized.fit(df_train_x, df_train_y)\n",
    "# Train 데이터 설명력\n",
    "print(\"Score on training set: {:.3f}\".format(tree_uncustomized.score(df_train_x, df_train_y)))\n",
    "# test 데이터 설명력\n",
    "print(\"Score on test set: {:.3f}\".format(tree_uncustomized.score(df_test_x, df_test_y)))"
   ]
  },
  {
   "cell_type": "code",
   "execution_count": 33,
   "id": "d8d0c43e",
   "metadata": {},
   "outputs": [
    {
     "data": {
      "text/plain": [
       "{'ccp_alpha': 0.0,\n",
       " 'criterion': 'squared_error',\n",
       " 'max_depth': None,\n",
       " 'max_features': None,\n",
       " 'max_leaf_nodes': None,\n",
       " 'min_impurity_decrease': 0.0,\n",
       " 'min_samples_leaf': 1,\n",
       " 'min_samples_split': 2,\n",
       " 'min_weight_fraction_leaf': 0.0,\n",
       " 'random_state': 1234,\n",
       " 'splitter': 'best'}"
      ]
     },
     "execution_count": 33,
     "metadata": {},
     "output_type": "execute_result"
    }
   ],
   "source": [
    "# 실행옵션 확인\n",
    "tree_uncustomized.get_params()"
   ]
  },
  {
   "cell_type": "code",
   "execution_count": 34,
   "id": "338cb12a",
   "metadata": {},
   "outputs": [],
   "source": [
    "# train 및 test 설명력 결과 저장\n",
    "train_score = []; test_score = []\n",
    "# max_depth: 최대 깊이 변경\n",
    "para_depth = [depth for depth in range(1, 11)]\n",
    "\n",
    "for v_max_depth in para_depth:\n",
    "    tree = DecisionTreeRegressor(random_state=1234, max_depth = v_max_depth)\n",
    "    tree.fit(df_train_x, df_train_y)\n",
    "    train_score.append(tree.score(df_train_x, df_train_y))\n",
    "    test_score.append(tree.score(df_test_x, df_test_y))\n",
    "\n",
    "# 데이터 테이블로 저장\n",
    "df_score_depth = pd.DataFrame()\n",
    "df_score_depth[\"Depth\"] = para_depth\n",
    "df_score_depth[\"TrainScore\"] = train_score\n",
    "df_score_depth[\"TestScore\"] = test_score"
   ]
  },
  {
   "cell_type": "code",
   "execution_count": 35,
   "id": "03dc6656",
   "metadata": {},
   "outputs": [
    {
     "data": {
      "text/html": [
       "<div>\n",
       "<style scoped>\n",
       "    .dataframe tbody tr th:only-of-type {\n",
       "        vertical-align: middle;\n",
       "    }\n",
       "\n",
       "    .dataframe tbody tr th {\n",
       "        vertical-align: top;\n",
       "    }\n",
       "\n",
       "    .dataframe thead th {\n",
       "        text-align: right;\n",
       "    }\n",
       "</style>\n",
       "<table border=\"1\" class=\"dataframe\">\n",
       "  <thead>\n",
       "    <tr style=\"text-align: right;\">\n",
       "      <th></th>\n",
       "      <th>Depth</th>\n",
       "      <th>TrainScore</th>\n",
       "      <th>TestScore</th>\n",
       "    </tr>\n",
       "  </thead>\n",
       "  <tbody>\n",
       "    <tr>\n",
       "      <th>0</th>\n",
       "      <td>1</td>\n",
       "      <td>0.605</td>\n",
       "      <td>0.600</td>\n",
       "    </tr>\n",
       "    <tr>\n",
       "      <th>1</th>\n",
       "      <td>2</td>\n",
       "      <td>0.835</td>\n",
       "      <td>0.839</td>\n",
       "    </tr>\n",
       "    <tr>\n",
       "      <th>2</th>\n",
       "      <td>3</td>\n",
       "      <td>0.918</td>\n",
       "      <td>0.919</td>\n",
       "    </tr>\n",
       "    <tr>\n",
       "      <th>3</th>\n",
       "      <td>4</td>\n",
       "      <td>0.941</td>\n",
       "      <td>0.942</td>\n",
       "    </tr>\n",
       "    <tr>\n",
       "      <th>4</th>\n",
       "      <td>5</td>\n",
       "      <td>0.947</td>\n",
       "      <td>0.948</td>\n",
       "    </tr>\n",
       "    <tr>\n",
       "      <th>5</th>\n",
       "      <td>6</td>\n",
       "      <td>0.950</td>\n",
       "      <td>0.950</td>\n",
       "    </tr>\n",
       "    <tr>\n",
       "      <th>6</th>\n",
       "      <td>7</td>\n",
       "      <td>0.952</td>\n",
       "      <td>0.951</td>\n",
       "    </tr>\n",
       "    <tr>\n",
       "      <th>7</th>\n",
       "      <td>8</td>\n",
       "      <td>0.954</td>\n",
       "      <td>0.952</td>\n",
       "    </tr>\n",
       "    <tr>\n",
       "      <th>8</th>\n",
       "      <td>9</td>\n",
       "      <td>0.957</td>\n",
       "      <td>0.951</td>\n",
       "    </tr>\n",
       "    <tr>\n",
       "      <th>9</th>\n",
       "      <td>10</td>\n",
       "      <td>0.960</td>\n",
       "      <td>0.950</td>\n",
       "    </tr>\n",
       "  </tbody>\n",
       "</table>\n",
       "</div>"
      ],
      "text/plain": [
       "   Depth  TrainScore  TestScore\n",
       "0      1       0.605      0.600\n",
       "1      2       0.835      0.839\n",
       "2      3       0.918      0.919\n",
       "3      4       0.941      0.942\n",
       "4      5       0.947      0.948\n",
       "5      6       0.950      0.950\n",
       "6      7       0.952      0.951\n",
       "7      8       0.954      0.952\n",
       "8      9       0.957      0.951\n",
       "9     10       0.960      0.950"
      ]
     },
     "execution_count": 35,
     "metadata": {},
     "output_type": "execute_result"
    }
   ],
   "source": [
    "#  모델 설명력 확인\n",
    "df_score_depth.round(3)"
   ]
  },
  {
   "cell_type": "code",
   "execution_count": 36,
   "id": "be7bc208",
   "metadata": {},
   "outputs": [
    {
     "data": {
      "text/plain": [
       "<matplotlib.legend.Legend at 0x7f09ccc33dc0>"
      ]
     },
     "execution_count": 36,
     "metadata": {},
     "output_type": "execute_result"
    },
    {
     "data": {
      "image/png": "[encoded data removed]",
      "text/plain": [
       "<Figure size 640x480 with 1 Axes>"
      ]
     },
     "metadata": {},
     "output_type": "display_data"
    }
   ],
   "source": [
    "# 모델 설명력 그래프 확인\n",
    "plt.plot(para_depth, train_score, linestyle = \"-\", label = \"Train Score\")\n",
    "plt.plot(para_depth, test_score, linestyle = \"--\", label = \"Test Score\")\n",
    "plt.legend()"
   ]
  },
  {
   "cell_type": "markdown",
   "id": "3c8f1b1e",
   "metadata": {},
   "source": [
    "의사결정나무 깊이 개수: 3"
   ]
  },
  {
   "cell_type": "code",
   "execution_count": 39,
   "id": "5784e41c",
   "metadata": {},
   "outputs": [
    {
     "data": {
      "text/plain": [
       "{'ccp_alpha': 0.0,\n",
       " 'criterion': 'squared_error',\n",
       " 'max_depth': 3,\n",
       " 'max_features': None,\n",
       " 'max_leaf_nodes': None,\n",
       " 'min_impurity_decrease': 0.0,\n",
       " 'min_samples_leaf': 1,\n",
       " 'min_samples_split': 2,\n",
       " 'min_weight_fraction_leaf': 0.0,\n",
       " 'random_state': 1234,\n",
       " 'splitter': 'best'}"
      ]
     },
     "execution_count": 39,
     "metadata": {},
     "output_type": "execute_result"
    }
   ],
   "source": [
    "v_feature_name = df_train_x.columns\n",
    "tree_final = DecisionTreeRegressor(random_state=1234, max_depth = 3)\n",
    "tree_final.fit(df_train_x, df_train_y)\n",
    "tree_final.get_params()"
   ]
  },
  {
   "cell_type": "code",
   "execution_count": 40,
   "id": "b4a88caf",
   "metadata": {
    "scrolled": true
   },
   "outputs": [
    {
     "name": "stdout",
     "output_type": "stream",
     "text": [
      "test data의 실제값 : \n",
      " 27614    535\n",
      "19622    534\n",
      "30689    536\n",
      "8494     534\n",
      "1989     533\n",
      "18935    546\n",
      "16691    537\n",
      "8784     533\n",
      "3933     536\n",
      "9852     532\n",
      "Name: dc1_capafit, dtype: int64\n",
      "test data의 예측값 : \n",
      " [534.9122807  533.02104748 538.2996676  533.02104748 533.02104748\n",
      " 545.78471139 538.2996676  533.02104748 536.29705972 533.02104748]\n"
     ]
    }
   ],
   "source": [
    "# 평가용 데이터에 대한 실제값과 예측값 확인(10개 확인)\n",
    "test_pred = tree_final.predict(df_test_x)\n",
    "print('test data의 실제값 : \\n', df_test_y[:10])\n",
    "print('test data의 예측값 : \\n', test_pred[:10])"
   ]
  },
  {
   "cell_type": "code",
   "execution_count": 41,
   "id": "f7034ffb",
   "metadata": {},
   "outputs": [
    {
     "data": {
      "image/svg+xml": [
       "<?xml version=\"1.0\" encoding=\"UTF-8\" standalone=\"no\"?>\n",
       "<!DOCTYPE svg PUBLIC \"-//W3C//DTD SVG 1.1//EN\"\n",
       " \"http://www.w3.org/Graphics/SVG/1.1/DTD/svg11.dtd\">\n",
       "<!-- Generated by graphviz version 2.40.1 (20161225.0304)\n",
       " -->\n",
       "<!-- Title: Tree Pages: 1 -->\n",
       "<svg width=\"1342pt\" height=\"373pt\"\n",
       " viewBox=\"0.00 0.00 1342.00 373.00\" xmlns=\"http://www.w3.org/2000/svg\" xmlns:xlink=\"http://www.w3.org/1999/xlink\">\n",
       "<g id=\"graph0\" class=\"graph\" transform=\"scale(1 1) rotate(0) translate(4 369)\">\n",
       "<title>Tree</title>\n",
       "<polygon fill=\"#ffffff\" stroke=\"transparent\" points=\"-4,4 -4,-369 1338,-369 1338,4 -4,4\"/>\n",
       "<!-- 0 -->\n",
       "<g id=\"node1\" class=\"node\">\n",
       "<title>0</title>\n",
       "<polygon fill=\"#f2c29f\" stroke=\"#000000\" points=\"745.5,-365 587.5,-365 587.5,-297 745.5,-297 745.5,-365\"/>\n",
       "<text text-anchor=\"middle\" x=\"666.5\" y=\"-349.8\" font-family=\"Helvetica,sans-Serif\" font-size=\"14.00\" fill=\"#000000\">c1_temp_avg &lt;= 276.5</text>\n",
       "<text text-anchor=\"middle\" x=\"666.5\" y=\"-334.8\" font-family=\"Helvetica,sans-Serif\" font-size=\"14.00\" fill=\"#000000\">squared_error = 17.697</text>\n",
       "<text text-anchor=\"middle\" x=\"666.5\" y=\"-319.8\" font-family=\"Helvetica,sans-Serif\" font-size=\"14.00\" fill=\"#000000\">samples = 21713</text>\n",
       "<text text-anchor=\"middle\" x=\"666.5\" y=\"-304.8\" font-family=\"Helvetica,sans-Serif\" font-size=\"14.00\" fill=\"#000000\">value = 535.565</text>\n",
       "</g>\n",
       "<!-- 1 -->\n",
       "<g id=\"node2\" class=\"node\">\n",
       "<title>1</title>\n",
       "<polygon fill=\"#eead7e\" stroke=\"#000000\" points=\"618.5,-261 462.5,-261 462.5,-193 618.5,-193 618.5,-261\"/>\n",
       "<text text-anchor=\"middle\" x=\"540.5\" y=\"-245.8\" font-family=\"Helvetica,sans-Serif\" font-size=\"14.00\" fill=\"#000000\">c1_temp_avg &lt;= 263.5</text>\n",
       "<text text-anchor=\"middle\" x=\"540.5\" y=\"-230.8\" font-family=\"Helvetica,sans-Serif\" font-size=\"14.00\" fill=\"#000000\">squared_error = 8.068</text>\n",
       "<text text-anchor=\"middle\" x=\"540.5\" y=\"-215.8\" font-family=\"Helvetica,sans-Serif\" font-size=\"14.00\" fill=\"#000000\">samples = 10679</text>\n",
       "<text text-anchor=\"middle\" x=\"540.5\" y=\"-200.8\" font-family=\"Helvetica,sans-Serif\" font-size=\"14.00\" fill=\"#000000\">value = 538.891</text>\n",
       "</g>\n",
       "<!-- 0&#45;&gt;1 -->\n",
       "<g id=\"edge1\" class=\"edge\">\n",
       "<title>0&#45;&gt;1</title>\n",
       "<path fill=\"none\" stroke=\"#000000\" d=\"M625.2429,-296.9465C613.9299,-287.6088 601.5508,-277.3911 589.8342,-267.7203\"/>\n",
       "<polygon fill=\"#000000\" stroke=\"#000000\" points=\"591.79,-264.7964 581.8498,-261.13 587.3341,-270.195 591.79,-264.7964\"/>\n",
       "<text text-anchor=\"middle\" x=\"584.2302\" y=\"-282.3164\" font-family=\"Helvetica,sans-Serif\" font-size=\"14.00\" fill=\"#000000\">True</text>\n",
       "</g>\n",
       "<!-- 8 -->\n",
       "<g id=\"node9\" class=\"node\">\n",
       "<title>8</title>\n",
       "<polygon fill=\"#f7d7c0\" stroke=\"#000000\" points=\"871.5,-261 715.5,-261 715.5,-193 871.5,-193 871.5,-261\"/>\n",
       "<text text-anchor=\"middle\" x=\"793.5\" y=\"-245.8\" font-family=\"Helvetica,sans-Serif\" font-size=\"14.00\" fill=\"#000000\">c1_temp_avg &lt;= 289.5</text>\n",
       "<text text-anchor=\"middle\" x=\"793.5\" y=\"-230.8\" font-family=\"Helvetica,sans-Serif\" font-size=\"14.00\" fill=\"#000000\">squared_error = 5.95</text>\n",
       "<text text-anchor=\"middle\" x=\"793.5\" y=\"-215.8\" font-family=\"Helvetica,sans-Serif\" font-size=\"14.00\" fill=\"#000000\">samples = 11034</text>\n",
       "<text text-anchor=\"middle\" x=\"793.5\" y=\"-200.8\" font-family=\"Helvetica,sans-Serif\" font-size=\"14.00\" fill=\"#000000\">value = 532.347</text>\n",
       "</g>\n",
       "<!-- 0&#45;&gt;8 -->\n",
       "<g id=\"edge8\" class=\"edge\">\n",
       "<title>0&#45;&gt;8</title>\n",
       "<path fill=\"none\" stroke=\"#000000\" d=\"M708.0845,-296.9465C719.4873,-287.6088 731.9647,-277.3911 743.7743,-267.7203\"/>\n",
       "<polygon fill=\"#000000\" stroke=\"#000000\" points=\"746.3026,-270.1736 751.822,-261.13 741.8676,-264.7578 746.3026,-270.1736\"/>\n",
       "<text text-anchor=\"middle\" x=\"749.3451\" y=\"-282.307\" font-family=\"Helvetica,sans-Serif\" font-size=\"14.00\" fill=\"#000000\">False</text>\n",
       "</g>\n",
       "<!-- 2 -->\n",
       "<g id=\"node3\" class=\"node\">\n",
       "<title>2</title>\n",
       "<polygon fill=\"#ea995f\" stroke=\"#000000\" points=\"322.5,-157 166.5,-157 166.5,-89 322.5,-89 322.5,-157\"/>\n",
       "<text text-anchor=\"middle\" x=\"244.5\" y=\"-141.8\" font-family=\"Helvetica,sans-Serif\" font-size=\"14.00\" fill=\"#000000\">c1_temp_avg &lt;= 252.5</text>\n",
       "<text text-anchor=\"middle\" x=\"244.5\" y=\"-126.8\" font-family=\"Helvetica,sans-Serif\" font-size=\"14.00\" fill=\"#000000\">squared_error = 5.454</text>\n",
       "<text text-anchor=\"middle\" x=\"244.5\" y=\"-111.8\" font-family=\"Helvetica,sans-Serif\" font-size=\"14.00\" fill=\"#000000\">samples = 3469</text>\n",
       "<text text-anchor=\"middle\" x=\"244.5\" y=\"-96.8\" font-family=\"Helvetica,sans-Serif\" font-size=\"14.00\" fill=\"#000000\">value = 542.025</text>\n",
       "</g>\n",
       "<!-- 1&#45;&gt;2 -->\n",
       "<g id=\"edge2\" class=\"edge\">\n",
       "<title>1&#45;&gt;2</title>\n",
       "<path fill=\"none\" stroke=\"#000000\" d=\"M462.3423,-199.5392C422.2985,-185.4698 373.4039,-168.2906 332.0906,-153.7751\"/>\n",
       "<polygon fill=\"#000000\" stroke=\"#000000\" points=\"333.1769,-150.447 322.582,-150.4342 330.8564,-157.0513 333.1769,-150.447\"/>\n",
       "</g>\n",
       "<!-- 5 -->\n",
       "<g id=\"node6\" class=\"node\">\n",
       "<title>5</title>\n",
       "<polygon fill=\"#f0b78d\" stroke=\"#000000\" points=\"618.5,-157 462.5,-157 462.5,-89 618.5,-89 618.5,-157\"/>\n",
       "<text text-anchor=\"middle\" x=\"540.5\" y=\"-141.8\" font-family=\"Helvetica,sans-Serif\" font-size=\"14.00\" fill=\"#000000\">c1_temp_avg &lt;= 271.5</text>\n",
       "<text text-anchor=\"middle\" x=\"540.5\" y=\"-126.8\" font-family=\"Helvetica,sans-Serif\" font-size=\"14.00\" fill=\"#000000\">squared_error = 2.327</text>\n",
       "<text text-anchor=\"middle\" x=\"540.5\" y=\"-111.8\" font-family=\"Helvetica,sans-Serif\" font-size=\"14.00\" fill=\"#000000\">samples = 7210</text>\n",
       "<text text-anchor=\"middle\" x=\"540.5\" y=\"-96.8\" font-family=\"Helvetica,sans-Serif\" font-size=\"14.00\" fill=\"#000000\">value = 537.383</text>\n",
       "</g>\n",
       "<!-- 1&#45;&gt;5 -->\n",
       "<g id=\"edge5\" class=\"edge\">\n",
       "<title>1&#45;&gt;5</title>\n",
       "<path fill=\"none\" stroke=\"#000000\" d=\"M540.5,-192.9465C540.5,-184.776 540.5,-175.9318 540.5,-167.3697\"/>\n",
       "<polygon fill=\"#000000\" stroke=\"#000000\" points=\"544.0001,-167.13 540.5,-157.13 537.0001,-167.13 544.0001,-167.13\"/>\n",
       "</g>\n",
       "<!-- 3 -->\n",
       "<g id=\"node4\" class=\"node\">\n",
       "<title>3</title>\n",
       "<polygon fill=\"#e58139\" stroke=\"#000000\" points=\"151,-53 0,-53 0,0 151,0 151,-53\"/>\n",
       "<text text-anchor=\"middle\" x=\"75.5\" y=\"-37.8\" font-family=\"Helvetica,sans-Serif\" font-size=\"14.00\" fill=\"#000000\">squared_error = 4.153</text>\n",
       "<text text-anchor=\"middle\" x=\"75.5\" y=\"-22.8\" font-family=\"Helvetica,sans-Serif\" font-size=\"14.00\" fill=\"#000000\">samples = 641</text>\n",
       "<text text-anchor=\"middle\" x=\"75.5\" y=\"-7.8\" font-family=\"Helvetica,sans-Serif\" font-size=\"14.00\" fill=\"#000000\">value = 545.785</text>\n",
       "</g>\n",
       "<!-- 2&#45;&gt;3 -->\n",
       "<g id=\"edge3\" class=\"edge\">\n",
       "<title>2&#45;&gt;3</title>\n",
       "<path fill=\"none\" stroke=\"#000000\" d=\"M184.9169,-88.9777C167.3561,-78.9504 148.2186,-68.0228 130.9299,-58.1508\"/>\n",
       "<polygon fill=\"#000000\" stroke=\"#000000\" points=\"132.4953,-55.0143 122.0757,-53.095 129.0242,-61.0931 132.4953,-55.0143\"/>\n",
       "</g>\n",
       "<!-- 4 -->\n",
       "<g id=\"node5\" class=\"node\">\n",
       "<title>4</title>\n",
       "<polygon fill=\"#eb9e67\" stroke=\"#000000\" points=\"320,-53 169,-53 169,0 320,0 320,-53\"/>\n",
       "<text text-anchor=\"middle\" x=\"244.5\" y=\"-37.8\" font-family=\"Helvetica,sans-Serif\" font-size=\"14.00\" fill=\"#000000\">squared_error = 1.818</text>\n",
       "<text text-anchor=\"middle\" x=\"244.5\" y=\"-22.8\" font-family=\"Helvetica,sans-Serif\" font-size=\"14.00\" fill=\"#000000\">samples = 2828</text>\n",
       "<text text-anchor=\"middle\" x=\"244.5\" y=\"-7.8\" font-family=\"Helvetica,sans-Serif\" font-size=\"14.00\" fill=\"#000000\">value = 541.173</text>\n",
       "</g>\n",
       "<!-- 2&#45;&gt;4 -->\n",
       "<g id=\"edge4\" class=\"edge\">\n",
       "<title>2&#45;&gt;4</title>\n",
       "<path fill=\"none\" stroke=\"#000000\" d=\"M244.5,-88.9777C244.5,-80.7364 244.5,-71.887 244.5,-63.5153\"/>\n",
       "<polygon fill=\"#000000\" stroke=\"#000000\" points=\"248.0001,-63.2484 244.5,-53.2485 241.0001,-63.2485 248.0001,-63.2484\"/>\n",
       "</g>\n",
       "<!-- 6 -->\n",
       "<g id=\"node7\" class=\"node\">\n",
       "<title>6</title>\n",
       "<polygon fill=\"#efb184\" stroke=\"#000000\" points=\"489,-53 338,-53 338,0 489,0 489,-53\"/>\n",
       "<text text-anchor=\"middle\" x=\"413.5\" y=\"-37.8\" font-family=\"Helvetica,sans-Serif\" font-size=\"14.00\" fill=\"#000000\">squared_error = 1.611</text>\n",
       "<text text-anchor=\"middle\" x=\"413.5\" y=\"-22.8\" font-family=\"Helvetica,sans-Serif\" font-size=\"14.00\" fill=\"#000000\">samples = 3911</text>\n",
       "<text text-anchor=\"middle\" x=\"413.5\" y=\"-7.8\" font-family=\"Helvetica,sans-Serif\" font-size=\"14.00\" fill=\"#000000\">value = 538.3</text>\n",
       "</g>\n",
       "<!-- 5&#45;&gt;6 -->\n",
       "<g id=\"edge6\" class=\"edge\">\n",
       "<title>5&#45;&gt;6</title>\n",
       "<path fill=\"none\" stroke=\"#000000\" d=\"M495.7246,-88.9777C483.0708,-79.3629 469.3277,-68.9203 456.7647,-59.3743\"/>\n",
       "<polygon fill=\"#000000\" stroke=\"#000000\" points=\"458.7824,-56.5118 448.7027,-53.2485 454.5474,-62.0853 458.7824,-56.5118\"/>\n",
       "</g>\n",
       "<!-- 7 -->\n",
       "<g id=\"node8\" class=\"node\">\n",
       "<title>7</title>\n",
       "<polygon fill=\"#f1bd98\" stroke=\"#000000\" points=\"658,-53 507,-53 507,0 658,0 658,-53\"/>\n",
       "<text text-anchor=\"middle\" x=\"582.5\" y=\"-37.8\" font-family=\"Helvetica,sans-Serif\" font-size=\"14.00\" fill=\"#000000\">squared_error = 1.002</text>\n",
       "<text text-anchor=\"middle\" x=\"582.5\" y=\"-22.8\" font-family=\"Helvetica,sans-Serif\" font-size=\"14.00\" fill=\"#000000\">samples = 3299</text>\n",
       "<text text-anchor=\"middle\" x=\"582.5\" y=\"-7.8\" font-family=\"Helvetica,sans-Serif\" font-size=\"14.00\" fill=\"#000000\">value = 536.297</text>\n",
       "</g>\n",
       "<!-- 5&#45;&gt;7 -->\n",
       "<g id=\"edge7\" class=\"edge\">\n",
       "<title>5&#45;&gt;7</title>\n",
       "<path fill=\"none\" stroke=\"#000000\" d=\"M555.3076,-88.9777C559.0141,-80.4617 563.0031,-71.2963 566.7534,-62.6798\"/>\n",
       "<polygon fill=\"#000000\" stroke=\"#000000\" points=\"570.0766,-63.8145 570.8582,-53.2485 563.6582,-61.0209 570.0766,-63.8145\"/>\n",
       "</g>\n",
       "<!-- 9 -->\n",
       "<g id=\"node10\" class=\"node\">\n",
       "<title>9</title>\n",
       "<polygon fill=\"#f5cdb1\" stroke=\"#000000\" points=\"871.5,-157 715.5,-157 715.5,-89 871.5,-89 871.5,-157\"/>\n",
       "<text text-anchor=\"middle\" x=\"793.5\" y=\"-141.8\" font-family=\"Helvetica,sans-Serif\" font-size=\"14.00\" fill=\"#000000\">c1_temp_avg &lt;= 281.5</text>\n",
       "<text text-anchor=\"middle\" x=\"793.5\" y=\"-126.8\" font-family=\"Helvetica,sans-Serif\" font-size=\"14.00\" fill=\"#000000\">squared_error = 2.145</text>\n",
       "<text text-anchor=\"middle\" x=\"793.5\" y=\"-111.8\" font-family=\"Helvetica,sans-Serif\" font-size=\"14.00\" fill=\"#000000\">samples = 6879</text>\n",
       "<text text-anchor=\"middle\" x=\"793.5\" y=\"-96.8\" font-family=\"Helvetica,sans-Serif\" font-size=\"14.00\" fill=\"#000000\">value = 533.789</text>\n",
       "</g>\n",
       "<!-- 8&#45;&gt;9 -->\n",
       "<g id=\"edge9\" class=\"edge\">\n",
       "<title>8&#45;&gt;9</title>\n",
       "<path fill=\"none\" stroke=\"#000000\" d=\"M793.5,-192.9465C793.5,-184.776 793.5,-175.9318 793.5,-167.3697\"/>\n",
       "<polygon fill=\"#000000\" stroke=\"#000000\" points=\"797.0001,-167.13 793.5,-157.13 790.0001,-167.13 797.0001,-167.13\"/>\n",
       "</g>\n",
       "<!-- 12 -->\n",
       "<g id=\"node13\" class=\"node\">\n",
       "<title>12</title>\n",
       "<polygon fill=\"#fae6d7\" stroke=\"#000000\" points=\"1167.5,-157 1011.5,-157 1011.5,-89 1167.5,-89 1167.5,-157\"/>\n",
       "<text text-anchor=\"middle\" x=\"1089.5\" y=\"-141.8\" font-family=\"Helvetica,sans-Serif\" font-size=\"14.00\" fill=\"#000000\">c1_temp_avg &lt;= 302.0</text>\n",
       "<text text-anchor=\"middle\" x=\"1089.5\" y=\"-126.8\" font-family=\"Helvetica,sans-Serif\" font-size=\"14.00\" fill=\"#000000\">squared_error = 3.104</text>\n",
       "<text text-anchor=\"middle\" x=\"1089.5\" y=\"-111.8\" font-family=\"Helvetica,sans-Serif\" font-size=\"14.00\" fill=\"#000000\">samples = 4155</text>\n",
       "<text text-anchor=\"middle\" x=\"1089.5\" y=\"-96.8\" font-family=\"Helvetica,sans-Serif\" font-size=\"14.00\" fill=\"#000000\">value = 529.959</text>\n",
       "</g>\n",
       "<!-- 8&#45;&gt;12 -->\n",
       "<g id=\"edge12\" class=\"edge\">\n",
       "<title>8&#45;&gt;12</title>\n",
       "<path fill=\"none\" stroke=\"#000000\" d=\"M871.6577,-199.5392C911.7015,-185.4698 960.5961,-168.2906 1001.9094,-153.7751\"/>\n",
       "<polygon fill=\"#000000\" stroke=\"#000000\" points=\"1003.1436,-157.0513 1011.418,-150.4342 1000.8231,-150.447 1003.1436,-157.0513\"/>\n",
       "</g>\n",
       "<!-- 10 -->\n",
       "<g id=\"node11\" class=\"node\">\n",
       "<title>10</title>\n",
       "<polygon fill=\"#f3c6a6\" stroke=\"#000000\" points=\"827,-53 676,-53 676,0 827,0 827,-53\"/>\n",
       "<text text-anchor=\"middle\" x=\"751.5\" y=\"-37.8\" font-family=\"Helvetica,sans-Serif\" font-size=\"14.00\" fill=\"#000000\">squared_error = 1.319</text>\n",
       "<text text-anchor=\"middle\" x=\"751.5\" y=\"-22.8\" font-family=\"Helvetica,sans-Serif\" font-size=\"14.00\" fill=\"#000000\">samples = 2793</text>\n",
       "<text text-anchor=\"middle\" x=\"751.5\" y=\"-7.8\" font-family=\"Helvetica,sans-Serif\" font-size=\"14.00\" fill=\"#000000\">value = 534.912</text>\n",
       "</g>\n",
       "<!-- 9&#45;&gt;10 -->\n",
       "<g id=\"edge10\" class=\"edge\">\n",
       "<title>9&#45;&gt;10</title>\n",
       "<path fill=\"none\" stroke=\"#000000\" d=\"M778.6924,-88.9777C774.9859,-80.4617 770.9969,-71.2963 767.2466,-62.6798\"/>\n",
       "<polygon fill=\"#000000\" stroke=\"#000000\" points=\"770.3418,-61.0209 763.1418,-53.2485 763.9234,-63.8145 770.3418,-61.0209\"/>\n",
       "</g>\n",
       "<!-- 11 -->\n",
       "<g id=\"node12\" class=\"node\">\n",
       "<title>11</title>\n",
       "<polygon fill=\"#f6d2b9\" stroke=\"#000000\" points=\"996,-53 845,-53 845,0 996,0 996,-53\"/>\n",
       "<text text-anchor=\"middle\" x=\"920.5\" y=\"-37.8\" font-family=\"Helvetica,sans-Serif\" font-size=\"14.00\" fill=\"#000000\">squared_error = 1.258</text>\n",
       "<text text-anchor=\"middle\" x=\"920.5\" y=\"-22.8\" font-family=\"Helvetica,sans-Serif\" font-size=\"14.00\" fill=\"#000000\">samples = 4086</text>\n",
       "<text text-anchor=\"middle\" x=\"920.5\" y=\"-7.8\" font-family=\"Helvetica,sans-Serif\" font-size=\"14.00\" fill=\"#000000\">value = 533.021</text>\n",
       "</g>\n",
       "<!-- 9&#45;&gt;11 -->\n",
       "<g id=\"edge11\" class=\"edge\">\n",
       "<title>9&#45;&gt;11</title>\n",
       "<path fill=\"none\" stroke=\"#000000\" d=\"M838.2754,-88.9777C850.9292,-79.3629 864.6723,-68.9203 877.2353,-59.3743\"/>\n",
       "<polygon fill=\"#000000\" stroke=\"#000000\" points=\"879.4526,-62.0853 885.2973,-53.2485 875.2176,-56.5118 879.4526,-62.0853\"/>\n",
       "</g>\n",
       "<!-- 13 -->\n",
       "<g id=\"node14\" class=\"node\">\n",
       "<title>13</title>\n",
       "<polygon fill=\"#f9e3d3\" stroke=\"#000000\" points=\"1165,-53 1014,-53 1014,0 1165,0 1165,-53\"/>\n",
       "<text text-anchor=\"middle\" x=\"1089.5\" y=\"-37.8\" font-family=\"Helvetica,sans-Serif\" font-size=\"14.00\" fill=\"#000000\">squared_error = 1.223</text>\n",
       "<text text-anchor=\"middle\" x=\"1089.5\" y=\"-22.8\" font-family=\"Helvetica,sans-Serif\" font-size=\"14.00\" fill=\"#000000\">samples = 3717</text>\n",
       "<text text-anchor=\"middle\" x=\"1089.5\" y=\"-7.8\" font-family=\"Helvetica,sans-Serif\" font-size=\"14.00\" fill=\"#000000\">value = 530.425</text>\n",
       "</g>\n",
       "<!-- 12&#45;&gt;13 -->\n",
       "<g id=\"edge13\" class=\"edge\">\n",
       "<title>12&#45;&gt;13</title>\n",
       "<path fill=\"none\" stroke=\"#000000\" d=\"M1089.5,-88.9777C1089.5,-80.7364 1089.5,-71.887 1089.5,-63.5153\"/>\n",
       "<polygon fill=\"#000000\" stroke=\"#000000\" points=\"1093.0001,-63.2484 1089.5,-53.2485 1086.0001,-63.2485 1093.0001,-63.2484\"/>\n",
       "</g>\n",
       "<!-- 14 -->\n",
       "<g id=\"node15\" class=\"node\">\n",
       "<title>14</title>\n",
       "<polygon fill=\"#ffffff\" stroke=\"#000000\" points=\"1334,-53 1183,-53 1183,0 1334,0 1334,-53\"/>\n",
       "<text text-anchor=\"middle\" x=\"1258.5\" y=\"-37.8\" font-family=\"Helvetica,sans-Serif\" font-size=\"14.00\" fill=\"#000000\">squared_error = 1.568</text>\n",
       "<text text-anchor=\"middle\" x=\"1258.5\" y=\"-22.8\" font-family=\"Helvetica,sans-Serif\" font-size=\"14.00\" fill=\"#000000\">samples = 438</text>\n",
       "<text text-anchor=\"middle\" x=\"1258.5\" y=\"-7.8\" font-family=\"Helvetica,sans-Serif\" font-size=\"14.00\" fill=\"#000000\">value = 526.002</text>\n",
       "</g>\n",
       "<!-- 12&#45;&gt;14 -->\n",
       "<g id=\"edge14\" class=\"edge\">\n",
       "<title>12&#45;&gt;14</title>\n",
       "<path fill=\"none\" stroke=\"#000000\" d=\"M1149.0831,-88.9777C1166.6439,-78.9504 1185.7814,-68.0228 1203.0701,-58.1508\"/>\n",
       "<polygon fill=\"#000000\" stroke=\"#000000\" points=\"1204.9758,-61.0931 1211.9243,-53.095 1201.5047,-55.0143 1204.9758,-61.0931\"/>\n",
       "</g>\n",
       "</g>\n",
       "</svg>\n"
      ],
      "text/plain": [
       "<graphviz.sources.Source at 0x7f09cccb9b10>"
      ]
     },
     "metadata": {},
     "output_type": "display_data"
    },
    {
     "data": {
      "text/plain": [
       "<Figure size 700x700 with 0 Axes>"
      ]
     },
     "metadata": {},
     "output_type": "display_data"
    }
   ],
   "source": [
    "export_graphviz(tree_final, out_file=\"tree_final.dot\",\n",
    "                feature_names = v_feature_name, impurity = True, filled = True)\n",
    "\n",
    "with open(\"tree_final.dot\") as f:\n",
    "       dot_graph = f.read()\n",
    "plt.figure(figsize = (7, 7))\n",
    "display(graphviz.Source(dot_graph))\n"
   ]
  },
  {
   "cell_type": "code",
   "execution_count": 42,
   "id": "97b34c0e",
   "metadata": {},
   "outputs": [
    {
     "data": {
      "text/html": [
       "<div>\n",
       "<style scoped>\n",
       "    .dataframe tbody tr th:only-of-type {\n",
       "        vertical-align: middle;\n",
       "    }\n",
       "\n",
       "    .dataframe tbody tr th {\n",
       "        vertical-align: top;\n",
       "    }\n",
       "\n",
       "    .dataframe thead th {\n",
       "        text-align: right;\n",
       "    }\n",
       "</style>\n",
       "<table border=\"1\" class=\"dataframe\">\n",
       "  <thead>\n",
       "    <tr style=\"text-align: right;\">\n",
       "      <th></th>\n",
       "      <th>Feature</th>\n",
       "      <th>Importance</th>\n",
       "    </tr>\n",
       "  </thead>\n",
       "  <tbody>\n",
       "    <tr>\n",
       "      <th>4</th>\n",
       "      <td>c1_temp_avg</td>\n",
       "      <td>1.0</td>\n",
       "    </tr>\n",
       "    <tr>\n",
       "      <th>0</th>\n",
       "      <td>c1_curr_end</td>\n",
       "      <td>0.0</td>\n",
       "    </tr>\n",
       "    <tr>\n",
       "      <th>1</th>\n",
       "      <td>c1_voltage_avg</td>\n",
       "      <td>0.0</td>\n",
       "    </tr>\n",
       "    <tr>\n",
       "      <th>2</th>\n",
       "      <td>c1_ccval</td>\n",
       "      <td>0.0</td>\n",
       "    </tr>\n",
       "    <tr>\n",
       "      <th>3</th>\n",
       "      <td>c1_time_cc</td>\n",
       "      <td>0.0</td>\n",
       "    </tr>\n",
       "  </tbody>\n",
       "</table>\n",
       "</div>"
      ],
      "text/plain": [
       "          Feature  Importance\n",
       "4     c1_temp_avg         1.0\n",
       "0     c1_curr_end         0.0\n",
       "1  c1_voltage_avg         0.0\n",
       "2        c1_ccval         0.0\n",
       "3      c1_time_cc         0.0"
      ]
     },
     "execution_count": 42,
     "metadata": {},
     "output_type": "execute_result"
    }
   ],
   "source": [
    "# tree.feature_importances_로 설명변수 중요도 확인 및 테이블로 저장\n",
    "df_importance = pd.DataFrame()\n",
    "df_importance[\"Feature\"] = v_feature_name\n",
    "df_importance[\"Importance\"] = tree_final.feature_importances_\n",
    "\n",
    "# df_feature_importance의 테이블을 중요도별로 정렬\n",
    "df_importance.sort_values(\"Importance\", ascending=False, inplace = True)\n",
    "df_importance.round(3)"
   ]
  },
  {
   "cell_type": "code",
   "execution_count": 43,
   "id": "0b9dc38d",
   "metadata": {},
   "outputs": [
    {
     "data": {
      "text/plain": [
       "Text(0, 0.5, '변수')"
      ]
     },
     "execution_count": 43,
     "metadata": {},
     "output_type": "execute_result"
    },
    {
     "data": {
      "image/png": "[encoded data removed]",
      "text/plain": [
       "<Figure size 640x480 with 1 Axes>"
      ]
     },
     "metadata": {},
     "output_type": "display_data"
    }
   ],
   "source": [
    "# 설명변수 중요도 그래프\n",
    "# 중요도가 높은 변수를 상위에 그림\n",
    "df_importance.sort_values(\"Importance\", ascending=True, inplace = True)\n",
    "coordinates = range(len(df_importance))\n",
    "plt.barh(y = coordinates, width = df_importance[\"Importance\"])\n",
    "plt.yticks(coordinates, df_importance[\"Feature\"])\n",
    "plt.xlabel(\"변수 중요도\")\n",
    "plt.ylabel(\"변수\")"
   ]
  },
  {
   "cell_type": "markdown",
   "id": "3139cf48",
   "metadata": {},
   "source": [
    "### 모델평가"
   ]
  },
  {
   "cell_type": "code",
   "execution_count": 44,
   "id": "361b8605",
   "metadata": {},
   "outputs": [],
   "source": [
    "# 데이터 구성:Series, DataFrame\n",
    "import pandas as pd\n",
    "import numpy as np\n",
    "# 데이터 시각화\n",
    "import matplotlib.pyplot as plt\n",
    "import matplotlib\n",
    "\n",
    "# 데이터 분할:train, test\n",
    "from sklearn.model_selection import train_test_split\n",
    "\n",
    "# 회귀분석\n",
    "import statsmodels.formula.api as smf\n",
    "# Decision Tree\n",
    "from sklearn.tree import DecisionTreeRegressor\n",
    "# Random Forest\n",
    "from sklearn.ensemble import RandomForestRegressor\n",
    "# Gradient Boosting\n",
    "from sklearn.ensemble import GradientBoostingRegressor\n",
    "# 평가 함수\n",
    "from sklearn.metrics import mean_squared_error\n",
    "from sklearn.metrics import mean_absolute_error\n",
    "from sklearn.metrics import mean_absolute_percentage_error"
   ]
  },
  {
   "cell_type": "code",
   "execution_count": 45,
   "id": "6c949199",
   "metadata": {},
   "outputs": [],
   "source": [
    "# 모델 리스트, 그래프를 그리기 생성 목적\n",
    "models = [ \"의사결정나무\", \"랜덤 포레스트\", \"그래디언트 부스팅\"]\n",
    "# 평가 리스트 초기화\n",
    "mse, rmse, mae, mape = [],[],[],[]\n",
    "\n",
    "# 의사결정나무예측\n",
    "dt_y_pred = tree_final.predict(df_test_x)\n",
    "\n",
    "# 평가\n",
    "mse.append(mean_squared_error(df_test_y, dt_y_pred))\n",
    "rmse.append(mean_squared_error(df_test_y, dt_y_pred, squared=False))\n",
    "mae.append(mean_absolute_error(df_test_y, dt_y_pred))\n",
    "mape.append(mean_absolute_percentage_error(df_test_y, dt_y_pred))\n",
    "\n",
    "# 랜덤포레스트예측\n",
    "rf_y_pred = rf_final.predict(df_test_x)\n",
    "\n",
    "# 평가\n",
    "mse.append(mean_squared_error(df_test_y, rf_y_pred))\n",
    "rmse.append(mean_squared_error(df_test_y, rf_y_pred, squared=False))\n",
    "mae.append(mean_absolute_error(df_test_y, rf_y_pred))\n",
    "mape.append(mean_absolute_percentage_error(df_test_y, rf_y_pred))\n",
    "\n",
    "# 그래디언트부스팀예측\n",
    "gb_y_pred = gb_final.predict(df_test_x)\n",
    "\n",
    "# 평가\n",
    "mse.append(mean_squared_error(df_test_y, gb_y_pred))\n",
    "rmse.append(mean_squared_error(df_test_y, gb_y_pred, squared=False))\n",
    "mae.append(mean_absolute_error(df_test_y, gb_y_pred))\n",
    "mape.append(mean_absolute_percentage_error(df_test_y, gb_y_pred))"
   ]
  },
  {
   "cell_type": "code",
   "execution_count": 46,
   "id": "750f407c",
   "metadata": {},
   "outputs": [
    {
     "name": "stdout",
     "output_type": "stream",
     "text": [
      "Model: 의사결정나무\n",
      "MSE: 1.4585\n",
      "RMSE: 1.2077\n",
      "MAE: 0.9393\n",
      "MAPE: 0.0018\n",
      "\n",
      "\n",
      "Model: 랜덤 포레스트\n",
      "MSE: 0.9480\n",
      "RMSE: 0.9737\n",
      "MAE: 0.7485\n",
      "MAPE: 0.0014\n",
      "\n",
      "\n",
      "Model: 그래디언트 부스팅\n",
      "MSE: 0.8627\n",
      "RMSE: 0.9288\n",
      "MAE: 0.7200\n",
      "MAPE: 0.0013\n",
      "\n",
      "\n"
     ]
    }
   ],
   "source": [
    "# 결과 출력\n",
    "for i, model in enumerate(models):\n",
    "    print(f\"Model: {model}\")\n",
    "    print(f\"MSE: {mse[i]:.4f}\")\n",
    "    print(f\"RMSE: {rmse[i]:.4f}\")\n",
    "    print(f\"MAE: {mae[i]:.4f}\")\n",
    "    print(f\"MAPE: {mape[i]:.4f}\")\n",
    "    print(\"\\n\")"
   ]
  },
  {
   "cell_type": "code",
   "execution_count": 47,
   "id": "e97b6950",
   "metadata": {},
   "outputs": [
    {
     "data": {
      "image/png": "[encoded data removed]",
      "text/plain": [
       "<Figure size 1300x1000 with 4 Axes>"
      ]
     },
     "metadata": {},
     "output_type": "display_data"
    }
   ],
   "source": [
    "fig, ax = plt.subplots(2,2, figsize = (13,10))\n",
    "ax[0, 0].bar(models, mse)\n",
    "ax[0, 0].set_title(\"mse\").set_fontsize(15)\n",
    "\n",
    "ax[0, 1].bar(models, rmse)\n",
    "ax[0, 1].set_title(\"rmse\").set_fontsize(15)\n",
    "\n",
    "ax[1, 0].bar(models, mae)\n",
    "ax[1, 0].set_title(\"mae\").set_fontsize(15)\n",
    "\n",
    "ax[1, 1].bar(models, mape)\n",
    "ax[1, 1].set_title(\"mape\").set_fontsize(15)"
   ]
  },
  {
   "cell_type": "markdown",
   "id": "7325d5d4",
   "metadata": {},
   "source": [
    "mse: 그래디언트 부스팅 < 랜덤 포레스트 < 의사결정나무  \n",
    "rmse: 그래디언트 부스팅 < 랜덤 포레스트 < 의사결정나무   \n",
    "mae: 그래디언트 부스팅 < 랜덤 포레스트  < 의사결정나무   \n",
    "mape: 그래디언트 부스팅 < 랜덤 포레스트  < 의사결정나무  "
   ]
  },
  {
   "cell_type": "markdown",
   "id": "a4860db8",
   "metadata": {},
   "source": [
    "## x(c1,dc1 공정 변수들)과 y(dc1_capafit) 예측"
   ]
  },
  {
   "cell_type": "code",
   "execution_count": 49,
   "id": "30917a0b",
   "metadata": {},
   "outputs": [],
   "source": [
    "x= ['c1_curr_end','c1_voltage_avg','c1_ccval','c1_time_cc','c1_temp_avg','dc1_curr_end','dc1_voltage_avg','dc1_temp_avg']\n",
    "y= 'dc1_capafit'"
   ]
  },
  {
   "cell_type": "markdown",
   "id": "9ec8e1ff",
   "metadata": {},
   "source": [
    "### GB"
   ]
  },
  {
   "cell_type": "code",
   "execution_count": 50,
   "id": "2e67f116",
   "metadata": {},
   "outputs": [],
   "source": [
    "# 데이터 구성:Series, DataFrame\n",
    "import pandas as pd\n",
    "# 데이터 시각화\n",
    "import matplotlib.pyplot as plt\n",
    "import matplotlib\n",
    "\n",
    "# 데이터 분할:train, test\n",
    "from sklearn.model_selection import train_test_split\n",
    "# 분류 Gradient Boosting\n",
    "from sklearn.ensemble import GradientBoostingRegressor\n",
    "# 최적 모델, 파라미터 탐색\n",
    "from sklearn.model_selection import GridSearchCV\n"
   ]
  },
  {
   "cell_type": "code",
   "execution_count": 51,
   "id": "8650b377",
   "metadata": {},
   "outputs": [],
   "source": [
    "# 설명변수, 목표변수 데이터 구분\n",
    "df_x = df[['c1_curr_end','c1_voltage_avg','c1_ccval','c1_time_cc','c1_temp_avg','dc1_curr_end','dc1_voltage_avg','dc1_temp_avg']]\n",
    "df_y = df['dc1_capafit'] "
   ]
  },
  {
   "cell_type": "code",
   "execution_count": 52,
   "id": "2b161ec8",
   "metadata": {},
   "outputs": [
    {
     "name": "stdout",
     "output_type": "stream",
     "text": [
      "분할 전 설명변수 데이터 : (31019, 8)\n",
      "분할 후 설명변수 데이터 :Train (21713, 8)   Test (9306, 8)\n"
     ]
    }
   ],
   "source": [
    "# 데이터 분할 train_test_split(X: 설명변수, Y: 목표변수, test_size = test 데이터 비율)\n",
    "df_train_x, df_test_x, df_train_y, df_test_y = train_test_split(\n",
    "    df_x, df_y, test_size=0.3, random_state=1234)\n",
    "\n",
    "print(\"분할 전 설명변수 데이터 :\", df_x.shape)\n",
    "print(\"분할 후 설명변수 데이터 :Train\", df_train_x.shape, \"  Test\",df_test_x.shape)"
   ]
  },
  {
   "cell_type": "code",
   "execution_count": 53,
   "id": "cc5ff9b2",
   "metadata": {},
   "outputs": [
    {
     "name": "stdout",
     "output_type": "stream",
     "text": [
      "Score on training set: 0.993\n",
      "Score on test set: 0.993\n"
     ]
    }
   ],
   "source": [
    "# 그래디언트 부스팅 모델 생성: GradientBoostingClassifier\n",
    "gb_uncustomized = GradientBoostingRegressor(random_state=1234)\n",
    "gb_uncustomized.fit(df_train_x, df_train_y)\n",
    "\n",
    "# Train 데이터 설명력\n",
    "print(\"Score on training set: {:.3f}\".format(gb_uncustomized.score (df_train_x, df_train_y)))\n",
    "# Test 데이터 설명력\n",
    "print(\"Score on test set: {:.3f}\".format(gb_uncustomized.score (df_test_x, df_test_y)))"
   ]
  },
  {
   "cell_type": "code",
   "execution_count": 54,
   "id": "92c7cd82",
   "metadata": {},
   "outputs": [
    {
     "data": {
      "text/plain": [
       "{'alpha': 0.9,\n",
       " 'ccp_alpha': 0.0,\n",
       " 'criterion': 'friedman_mse',\n",
       " 'init': None,\n",
       " 'learning_rate': 0.1,\n",
       " 'loss': 'squared_error',\n",
       " 'max_depth': 3,\n",
       " 'max_features': None,\n",
       " 'max_leaf_nodes': None,\n",
       " 'min_impurity_decrease': 0.0,\n",
       " 'min_samples_leaf': 1,\n",
       " 'min_samples_split': 2,\n",
       " 'min_weight_fraction_leaf': 0.0,\n",
       " 'n_estimators': 100,\n",
       " 'n_iter_no_change': None,\n",
       " 'random_state': 1234,\n",
       " 'subsample': 1.0,\n",
       " 'tol': 0.0001,\n",
       " 'validation_fraction': 0.1,\n",
       " 'verbose': 0,\n",
       " 'warm_start': False}"
      ]
     },
     "execution_count": 54,
     "metadata": {},
     "output_type": "execute_result"
    }
   ],
   "source": [
    "# 실행옵션 확인\n",
    "gb_uncustomized.get_params()"
   ]
  },
  {
   "cell_type": "code",
   "execution_count": 55,
   "id": "cf5b2b2f",
   "metadata": {},
   "outputs": [
    {
     "name": "stdout",
     "output_type": "stream",
     "text": [
      "Score on training set: 0.993\n",
      "Score on test set: 0.993\n"
     ]
    }
   ],
   "source": [
    "# 최종모델 선택\n",
    "gb_final = gb_uncustomized \n",
    "gb_final.fit(df_train_x, df_train_y)\n",
    "# Train 데이터 설명력\n",
    "print(\"Score on training set: {:.3f}\".format(gb_final.score(df_train_x, df_train_y)))\n",
    "# Test 데이터 설명력\n",
    "print(\"Score on test set: {:.3f}\".format(gb_final.score(df_test_x, df_test_y)))"
   ]
  },
  {
   "cell_type": "code",
   "execution_count": 56,
   "id": "277430bc",
   "metadata": {},
   "outputs": [
    {
     "name": "stdout",
     "output_type": "stream",
     "text": [
      "test data의 실제값 : \n",
      " 27614    535\n",
      "19622    534\n",
      "30689    536\n",
      "8494     534\n",
      "1989     533\n",
      "18935    546\n",
      "16691    537\n",
      "8784     533\n",
      "3933     536\n",
      "9852     532\n",
      "Name: dc1_capafit, dtype: int64\n",
      "test data의 예측값 : \n",
      " [535.11293449 534.06082688 536.06061108 534.05173536 533.01370184\n",
      " 545.49423014 537.50689833 533.54455244 536.81541545 532.45053436]\n"
     ]
    }
   ],
   "source": [
    "# 평가용 데이터에 대한 실제값과 예측값 확인(10개 확인)\n",
    "test_pred =gb_final.predict(df_test_x)\n",
    "print('test data의 실제값 : \\n', df_test_y[:10])\n",
    "print('test data의 예측값 : \\n', test_pred[:10])"
   ]
  },
  {
   "cell_type": "code",
   "execution_count": 57,
   "id": "71b9dcb8",
   "metadata": {},
   "outputs": [
    {
     "data": {
      "text/html": [
       "<div>\n",
       "<style scoped>\n",
       "    .dataframe tbody tr th:only-of-type {\n",
       "        vertical-align: middle;\n",
       "    }\n",
       "\n",
       "    .dataframe tbody tr th {\n",
       "        vertical-align: top;\n",
       "    }\n",
       "\n",
       "    .dataframe thead th {\n",
       "        text-align: right;\n",
       "    }\n",
       "</style>\n",
       "<table border=\"1\" class=\"dataframe\">\n",
       "  <thead>\n",
       "    <tr style=\"text-align: right;\">\n",
       "      <th></th>\n",
       "      <th>Feature</th>\n",
       "      <th>Importance</th>\n",
       "    </tr>\n",
       "  </thead>\n",
       "  <tbody>\n",
       "    <tr>\n",
       "      <th>7</th>\n",
       "      <td>dc1_temp_avg</td>\n",
       "      <td>0.993</td>\n",
       "    </tr>\n",
       "    <tr>\n",
       "      <th>4</th>\n",
       "      <td>c1_temp_avg</td>\n",
       "      <td>0.004</td>\n",
       "    </tr>\n",
       "    <tr>\n",
       "      <th>5</th>\n",
       "      <td>dc1_curr_end</td>\n",
       "      <td>0.003</td>\n",
       "    </tr>\n",
       "    <tr>\n",
       "      <th>0</th>\n",
       "      <td>c1_curr_end</td>\n",
       "      <td>0.000</td>\n",
       "    </tr>\n",
       "    <tr>\n",
       "      <th>2</th>\n",
       "      <td>c1_ccval</td>\n",
       "      <td>0.000</td>\n",
       "    </tr>\n",
       "    <tr>\n",
       "      <th>3</th>\n",
       "      <td>c1_time_cc</td>\n",
       "      <td>0.000</td>\n",
       "    </tr>\n",
       "    <tr>\n",
       "      <th>6</th>\n",
       "      <td>dc1_voltage_avg</td>\n",
       "      <td>0.000</td>\n",
       "    </tr>\n",
       "    <tr>\n",
       "      <th>1</th>\n",
       "      <td>c1_voltage_avg</td>\n",
       "      <td>0.000</td>\n",
       "    </tr>\n",
       "  </tbody>\n",
       "</table>\n",
       "</div>"
      ],
      "text/plain": [
       "           Feature  Importance\n",
       "7     dc1_temp_avg       0.993\n",
       "4      c1_temp_avg       0.004\n",
       "5     dc1_curr_end       0.003\n",
       "0      c1_curr_end       0.000\n",
       "2         c1_ccval       0.000\n",
       "3       c1_time_cc       0.000\n",
       "6  dc1_voltage_avg       0.000\n",
       "1   c1_voltage_avg       0.000"
      ]
     },
     "execution_count": 57,
     "metadata": {},
     "output_type": "execute_result"
    }
   ],
   "source": [
    "# feature_importances_: 설명변수의 중요도\n",
    "v_feature_name = df_train_x.columns\n",
    "\n",
    "# tree.feature_importances_로 설명변수 중요도 확인 및 테이블로 저장\n",
    "df_importance = pd.DataFrame()\n",
    "df_importance[\"Feature\"] = v_feature_name\n",
    "df_importance[\"Importance\"] = gb_final.feature_importances_\n",
    "# df_feature_importance의 테이블을 중요도별로 정렬\n",
    "df_importance.sort_values(\"Importance\", ascending=False, inplace = True)\n",
    "df_importance.round(3)"
   ]
  },
  {
   "cell_type": "code",
   "execution_count": 58,
   "id": "547474a2",
   "metadata": {},
   "outputs": [
    {
     "data": {
      "text/plain": [
       "Text(0, 0.5, '변수')"
      ]
     },
     "execution_count": 58,
     "metadata": {},
     "output_type": "execute_result"
    },
    {
     "data": {
      "image/png": "[encoded data removed]",
      "text/plain": [
       "<Figure size 640x480 with 1 Axes>"
      ]
     },
     "metadata": {},
     "output_type": "display_data"
    }
   ],
   "source": [
    "# 중요도가 높은 변수를 상위에 그림. \n",
    "df_importance.sort_values(\"Importance\", ascending=True, inplace = True)\n",
    "coordinates = range(len(df_importance))\n",
    "plt.barh(y = coordinates, width = df_importance[\"Importance\"])\n",
    "plt.yticks(coordinates, df_importance[\"Feature\"])\n",
    "plt.xlabel(\"변수 중요도\")\n",
    "plt.ylabel(\"변수\")"
   ]
  },
  {
   "cell_type": "markdown",
   "id": "6bcb7fb2",
   "metadata": {},
   "source": [
    "### RF"
   ]
  },
  {
   "cell_type": "code",
   "execution_count": 59,
   "id": "75e93582",
   "metadata": {},
   "outputs": [],
   "source": [
    "# 데이터 구성:Series, DataFrame\n",
    "import pandas as pd\n",
    "# 데이터 시각화\n",
    "import matplotlib.pyplot as plt\n",
    "import matplotlib\n",
    "# export_graphviz: 나무 구조 생성 및 저장 \n",
    "from sklearn.tree import export_graphviz\n",
    "# graphviz : 나무 구조 시각화  (.dot 확장자 파일 불러오기 등)\n",
    "import graphviz\n",
    "# 데이터 분할:train, test\n",
    "from sklearn.model_selection import train_test_split\n",
    "# 예측/회귀 Random Forest\n",
    "from sklearn.ensemble import RandomForestRegressor\n",
    "# 최적 모델, 파라미터 탐색\n",
    "from sklearn.model_selection import GridSearchCV"
   ]
  },
  {
   "cell_type": "code",
   "execution_count": 60,
   "id": "52b90078",
   "metadata": {},
   "outputs": [
    {
     "name": "stdout",
     "output_type": "stream",
     "text": [
      "분할 전 설명변수 데이터 : (31019, 8)\n",
      "분할 후 설명변수 데이터 :Train (21713, 8)   Test (9306, 8)\n"
     ]
    }
   ],
   "source": [
    "print(\"분할 전 설명변수 데이터 :\", df_x.shape)\n",
    "print(\"분할 후 설명변수 데이터 :Train\", df_train_x.shape, \"  Test\",df_test_x.shape)"
   ]
  },
  {
   "cell_type": "code",
   "execution_count": 61,
   "id": "f08ed1ea",
   "metadata": {},
   "outputs": [
    {
     "name": "stdout",
     "output_type": "stream",
     "text": [
      "Score on training set: 0.999\n",
      "Score on test set: 0.992\n"
     ]
    }
   ],
   "source": [
    "rf_uncustomized = RandomForestRegressor(random_state=1234)\n",
    "rf_uncustomized.fit(df_train_x, df_train_y)\n",
    "# Train 데이터 설명력\n",
    "print(\"Score on training set: {:.3f}\".format(rf_uncustomized.score(df_train_x, df_train_y)))\n",
    "# Test 데이터 설명력\n",
    "print(\"Score on test set: {:.3f}\".format(rf_uncustomized.score(df_test_x, df_test_y)))"
   ]
  },
  {
   "cell_type": "code",
   "execution_count": 62,
   "id": "8d85e043",
   "metadata": {},
   "outputs": [
    {
     "data": {
      "text/plain": [
       "{'bootstrap': True,\n",
       " 'ccp_alpha': 0.0,\n",
       " 'criterion': 'squared_error',\n",
       " 'max_depth': None,\n",
       " 'max_features': 1.0,\n",
       " 'max_leaf_nodes': None,\n",
       " 'max_samples': None,\n",
       " 'min_impurity_decrease': 0.0,\n",
       " 'min_samples_leaf': 1,\n",
       " 'min_samples_split': 2,\n",
       " 'min_weight_fraction_leaf': 0.0,\n",
       " 'n_estimators': 100,\n",
       " 'n_jobs': None,\n",
       " 'oob_score': False,\n",
       " 'random_state': 1234,\n",
       " 'verbose': 0,\n",
       " 'warm_start': False}"
      ]
     },
     "execution_count": 62,
     "metadata": {},
     "output_type": "execute_result"
    }
   ],
   "source": [
    "# 실행옵션 확인\n",
    "rf_uncustomized.get_params()"
   ]
  },
  {
   "cell_type": "code",
   "execution_count": 63,
   "id": "960f1099",
   "metadata": {},
   "outputs": [
    {
     "name": "stdout",
     "output_type": "stream",
     "text": [
      "Score on training set: 0.999\n",
      "Score on test set: 0.992\n"
     ]
    }
   ],
   "source": [
    "# 최종 모델\n",
    "rf_final = rf_uncustomized\n",
    "rf_final.fit(df_train_x, df_train_y)\n",
    "# Train 데이터 설명력\n",
    "print(\"Score on training set: {:.3f}\".format(rf_final.score(df_train_x, df_train_y)))\n",
    "# Test 데이터 설명력\n",
    "print(\"Score on test set: {:.3f}\".format(rf_final.score(df_test_x, df_test_y)))"
   ]
  },
  {
   "cell_type": "code",
   "execution_count": 64,
   "id": "5674a5d9",
   "metadata": {},
   "outputs": [
    {
     "name": "stdout",
     "output_type": "stream",
     "text": [
      "test data의 실제값 : \n",
      " 27614    535\n",
      "19622    534\n",
      "30689    536\n",
      "8494     534\n",
      "1989     533\n",
      "18935    546\n",
      "16691    537\n",
      "8784     533\n",
      "3933     536\n",
      "9852     532\n",
      "Name: dc1_capafit, dtype: int64\n",
      "test data의 예측값 : \n",
      " [535.   534.   536.03 534.   533.   545.54 537.63 533.56 536.58 532.5 ]\n"
     ]
    }
   ],
   "source": [
    "# 평가용 데이터에 대한 실제값과 예측값 확인(10개 확인)\n",
    "test_pred = rf_final.predict(df_test_x)\n",
    "print('test data의 실제값 : \\n', df_test_y[:10])\n",
    "print('test data의 예측값 : \\n', test_pred[:10])"
   ]
  },
  {
   "cell_type": "code",
   "execution_count": 65,
   "id": "dd01e455",
   "metadata": {},
   "outputs": [
    {
     "data": {
      "text/html": [
       "<div>\n",
       "<style scoped>\n",
       "    .dataframe tbody tr th:only-of-type {\n",
       "        vertical-align: middle;\n",
       "    }\n",
       "\n",
       "    .dataframe tbody tr th {\n",
       "        vertical-align: top;\n",
       "    }\n",
       "\n",
       "    .dataframe thead th {\n",
       "        text-align: right;\n",
       "    }\n",
       "</style>\n",
       "<table border=\"1\" class=\"dataframe\">\n",
       "  <thead>\n",
       "    <tr style=\"text-align: right;\">\n",
       "      <th></th>\n",
       "      <th>Feature</th>\n",
       "      <th>Importance</th>\n",
       "    </tr>\n",
       "  </thead>\n",
       "  <tbody>\n",
       "    <tr>\n",
       "      <th>7</th>\n",
       "      <td>dc1_temp_avg</td>\n",
       "      <td>0.985</td>\n",
       "    </tr>\n",
       "    <tr>\n",
       "      <th>4</th>\n",
       "      <td>c1_temp_avg</td>\n",
       "      <td>0.006</td>\n",
       "    </tr>\n",
       "    <tr>\n",
       "      <th>5</th>\n",
       "      <td>dc1_curr_end</td>\n",
       "      <td>0.003</td>\n",
       "    </tr>\n",
       "    <tr>\n",
       "      <th>2</th>\n",
       "      <td>c1_ccval</td>\n",
       "      <td>0.002</td>\n",
       "    </tr>\n",
       "    <tr>\n",
       "      <th>3</th>\n",
       "      <td>c1_time_cc</td>\n",
       "      <td>0.001</td>\n",
       "    </tr>\n",
       "    <tr>\n",
       "      <th>0</th>\n",
       "      <td>c1_curr_end</td>\n",
       "      <td>0.001</td>\n",
       "    </tr>\n",
       "    <tr>\n",
       "      <th>6</th>\n",
       "      <td>dc1_voltage_avg</td>\n",
       "      <td>0.001</td>\n",
       "    </tr>\n",
       "    <tr>\n",
       "      <th>1</th>\n",
       "      <td>c1_voltage_avg</td>\n",
       "      <td>0.001</td>\n",
       "    </tr>\n",
       "  </tbody>\n",
       "</table>\n",
       "</div>"
      ],
      "text/plain": [
       "           Feature  Importance\n",
       "7     dc1_temp_avg       0.985\n",
       "4      c1_temp_avg       0.006\n",
       "5     dc1_curr_end       0.003\n",
       "2         c1_ccval       0.002\n",
       "3       c1_time_cc       0.001\n",
       "0      c1_curr_end       0.001\n",
       "6  dc1_voltage_avg       0.001\n",
       "1   c1_voltage_avg       0.001"
      ]
     },
     "execution_count": 65,
     "metadata": {},
     "output_type": "execute_result"
    }
   ],
   "source": [
    "# 변수명\n",
    "v_feature_names = df_train_x.columns\n",
    "# tree.feature_importances_로 설명변수 중요도 확인 및 테이블로 저장\n",
    "df_importance = pd.DataFrame()\n",
    "df_importance [\"Feature\"] = v_feature_names\n",
    "df_importance [\"Importance\"] = rf_final.feature_importances_\n",
    "# df_feature_importance의 테이블을 중요도별로 정렬\n",
    "df_importance .sort_values(\"Importance\", ascending=False, inplace = True)\n",
    "df_importance .round(3)"
   ]
  },
  {
   "cell_type": "code",
   "execution_count": 66,
   "id": "acc667ab",
   "metadata": {},
   "outputs": [
    {
     "data": {
      "text/plain": [
       "Text(0, 0.5, '설명변수')"
      ]
     },
     "execution_count": 66,
     "metadata": {},
     "output_type": "execute_result"
    },
    {
     "data": {
      "image/png": "[encoded data removed]",
      "text/plain": [
       "<Figure size 640x480 with 1 Axes>"
      ]
     },
     "metadata": {},
     "output_type": "display_data"
    }
   ],
   "source": [
    "# 설명변수 중요도 그래프\n",
    "# 중요도가 높은 변수를 상위에 그림 \n",
    "df_importance .sort_values(\"Importance\", ascending=True, inplace = True)\n",
    "coordinates = range(len(df_importance ))\n",
    "plt.barh(y = coordinates, width = df_importance [\"Importance\"])\n",
    "plt.yticks(coordinates, df_importance [\"Feature\"])\n",
    "plt.xlabel(\"설명변수 중요도\")\n",
    "plt.ylabel(\"설명변수\")"
   ]
  },
  {
   "cell_type": "markdown",
   "id": "41e9c8a1",
   "metadata": {},
   "source": [
    "### DT"
   ]
  },
  {
   "cell_type": "code",
   "execution_count": 71,
   "id": "41cea5f7",
   "metadata": {},
   "outputs": [],
   "source": [
    "# 데이터 구성:Series, DataFrame\n",
    "import pandas as pd\n",
    "# 데이터 시각화\n",
    "import matplotlib.pyplot as plt\n",
    "import matplotlib\n",
    "# export_graphviz: 나무 구조 생성 및 저장 \n",
    "from sklearn.tree import export_graphviz\n",
    "# graphviz : 나무 구조 시각화  (.dot 확장자 파일 불러오기 등)\n",
    "import graphviz\n",
    "# 데이터 분할:train, test\n",
    "from sklearn.model_selection import train_test_split\n",
    "# 예측/회귀 Decision Tree\n",
    "from sklearn.tree import DecisionTreeRegressor\n",
    "# 최적 모델, 파라미터 탐색\n",
    "from sklearn.model_selection import GridSearchCV"
   ]
  },
  {
   "cell_type": "code",
   "execution_count": 72,
   "id": "e8ba5bd9",
   "metadata": {},
   "outputs": [
    {
     "name": "stdout",
     "output_type": "stream",
     "text": [
      "분할 전 설명변수 데이터 : (31019, 8)\n",
      "분할 후 설명변수 데이터 :Train (21713, 8)   Test (9306, 8)\n"
     ]
    }
   ],
   "source": [
    "print(\"분할 전 설명변수 데이터 :\", df_x.shape)\n",
    "print(\"분할 후 설명변수 데이터 :Train\", df_train_x.shape, \"  Test\",df_test_x.shape)"
   ]
  },
  {
   "cell_type": "code",
   "execution_count": 73,
   "id": "afa215be",
   "metadata": {},
   "outputs": [
    {
     "name": "stdout",
     "output_type": "stream",
     "text": [
      "Score on training set: 1.000\n",
      "Score on test set: 0.985\n"
     ]
    }
   ],
   "source": [
    "tree_uncustomized = DecisionTreeRegressor(random_state=1234)\n",
    "tree_uncustomized.fit(df_train_x, df_train_y)\n",
    "# Train 데이터 설명력\n",
    "print(\"Score on training set: {:.3f}\".format(tree_uncustomized.score(df_train_x, df_train_y)))\n",
    "# test 데이터 설명력\n",
    "print(\"Score on test set: {:.3f}\".format(tree_uncustomized.score(df_test_x, df_test_y)))"
   ]
  },
  {
   "cell_type": "code",
   "execution_count": 74,
   "id": "908c5c75",
   "metadata": {},
   "outputs": [
    {
     "data": {
      "text/plain": [
       "{'ccp_alpha': 0.0,\n",
       " 'criterion': 'squared_error',\n",
       " 'max_depth': None,\n",
       " 'max_features': None,\n",
       " 'max_leaf_nodes': None,\n",
       " 'min_impurity_decrease': 0.0,\n",
       " 'min_samples_leaf': 1,\n",
       " 'min_samples_split': 2,\n",
       " 'min_weight_fraction_leaf': 0.0,\n",
       " 'random_state': 1234,\n",
       " 'splitter': 'best'}"
      ]
     },
     "execution_count": 74,
     "metadata": {},
     "output_type": "execute_result"
    }
   ],
   "source": [
    "# 실행옵션 확인\n",
    "tree_uncustomized.get_params()"
   ]
  },
  {
   "cell_type": "code",
   "execution_count": 75,
   "id": "8b1741e1",
   "metadata": {},
   "outputs": [],
   "source": [
    "# train 및 test 설명력 결과 저장\n",
    "train_score = []; test_score = []\n",
    "# max_depth: 최대 깊이 변경\n",
    "para_depth = [depth for depth in range(1, 11)]\n",
    "\n",
    "for v_max_depth in para_depth:\n",
    "    tree = DecisionTreeRegressor(random_state=1234, max_depth = v_max_depth)\n",
    "    tree.fit(df_train_x, df_train_y)\n",
    "    train_score.append(tree.score(df_train_x, df_train_y))\n",
    "    test_score.append(tree.score(df_test_x, df_test_y))\n",
    "\n",
    "# 데이터 테이블로 저장\n",
    "df_score_depth = pd.DataFrame()\n",
    "df_score_depth[\"Depth\"] = para_depth\n",
    "df_score_depth[\"TrainScore\"] = train_score\n",
    "df_score_depth[\"TestScore\"] = test_score"
   ]
  },
  {
   "cell_type": "code",
   "execution_count": 76,
   "id": "c6bdad92",
   "metadata": {},
   "outputs": [
    {
     "data": {
      "text/html": [
       "<div>\n",
       "<style scoped>\n",
       "    .dataframe tbody tr th:only-of-type {\n",
       "        vertical-align: middle;\n",
       "    }\n",
       "\n",
       "    .dataframe tbody tr th {\n",
       "        vertical-align: top;\n",
       "    }\n",
       "\n",
       "    .dataframe thead th {\n",
       "        text-align: right;\n",
       "    }\n",
       "</style>\n",
       "<table border=\"1\" class=\"dataframe\">\n",
       "  <thead>\n",
       "    <tr style=\"text-align: right;\">\n",
       "      <th></th>\n",
       "      <th>Depth</th>\n",
       "      <th>TrainScore</th>\n",
       "      <th>TestScore</th>\n",
       "    </tr>\n",
       "  </thead>\n",
       "  <tbody>\n",
       "    <tr>\n",
       "      <th>0</th>\n",
       "      <td>1</td>\n",
       "      <td>0.633</td>\n",
       "      <td>0.627</td>\n",
       "    </tr>\n",
       "    <tr>\n",
       "      <th>1</th>\n",
       "      <td>2</td>\n",
       "      <td>0.873</td>\n",
       "      <td>0.873</td>\n",
       "    </tr>\n",
       "    <tr>\n",
       "      <th>2</th>\n",
       "      <td>3</td>\n",
       "      <td>0.958</td>\n",
       "      <td>0.957</td>\n",
       "    </tr>\n",
       "    <tr>\n",
       "      <th>3</th>\n",
       "      <td>4</td>\n",
       "      <td>0.984</td>\n",
       "      <td>0.984</td>\n",
       "    </tr>\n",
       "    <tr>\n",
       "      <th>4</th>\n",
       "      <td>5</td>\n",
       "      <td>0.991</td>\n",
       "      <td>0.991</td>\n",
       "    </tr>\n",
       "    <tr>\n",
       "      <th>5</th>\n",
       "      <td>6</td>\n",
       "      <td>0.992</td>\n",
       "      <td>0.992</td>\n",
       "    </tr>\n",
       "    <tr>\n",
       "      <th>6</th>\n",
       "      <td>7</td>\n",
       "      <td>0.993</td>\n",
       "      <td>0.992</td>\n",
       "    </tr>\n",
       "    <tr>\n",
       "      <th>7</th>\n",
       "      <td>8</td>\n",
       "      <td>0.993</td>\n",
       "      <td>0.992</td>\n",
       "    </tr>\n",
       "    <tr>\n",
       "      <th>8</th>\n",
       "      <td>9</td>\n",
       "      <td>0.993</td>\n",
       "      <td>0.992</td>\n",
       "    </tr>\n",
       "    <tr>\n",
       "      <th>9</th>\n",
       "      <td>10</td>\n",
       "      <td>0.993</td>\n",
       "      <td>0.992</td>\n",
       "    </tr>\n",
       "  </tbody>\n",
       "</table>\n",
       "</div>"
      ],
      "text/plain": [
       "   Depth  TrainScore  TestScore\n",
       "0      1       0.633      0.627\n",
       "1      2       0.873      0.873\n",
       "2      3       0.958      0.957\n",
       "3      4       0.984      0.984\n",
       "4      5       0.991      0.991\n",
       "5      6       0.992      0.992\n",
       "6      7       0.993      0.992\n",
       "7      8       0.993      0.992\n",
       "8      9       0.993      0.992\n",
       "9     10       0.993      0.992"
      ]
     },
     "execution_count": 76,
     "metadata": {},
     "output_type": "execute_result"
    }
   ],
   "source": [
    "#  모델 설명력 확인\n",
    "df_score_depth.round(3)"
   ]
  },
  {
   "cell_type": "code",
   "execution_count": 77,
   "id": "3098c1b2",
   "metadata": {},
   "outputs": [
    {
     "data": {
      "text/plain": [
       "<matplotlib.legend.Legend at 0x7f09a8501ff0>"
      ]
     },
     "execution_count": 77,
     "metadata": {},
     "output_type": "execute_result"
    },
    {
     "data": {
      "image/png": "[encoded data removed]",
      "text/plain": [
       "<Figure size 640x480 with 1 Axes>"
      ]
     },
     "metadata": {},
     "output_type": "display_data"
    }
   ],
   "source": [
    "# 모델 설명력 그래프 확인\n",
    "plt.plot(para_depth, train_score, linestyle = \"-\", label = \"Train Score\")\n",
    "plt.plot(para_depth, test_score, linestyle = \"--\", label = \"Test Score\")\n",
    "plt.legend()"
   ]
  },
  {
   "cell_type": "markdown",
   "id": "8d89a236",
   "metadata": {},
   "source": [
    "의사결정나무 깊이: 3"
   ]
  },
  {
   "cell_type": "code",
   "execution_count": 78,
   "id": "1d61efb4",
   "metadata": {},
   "outputs": [
    {
     "data": {
      "text/plain": [
       "{'ccp_alpha': 0.0,\n",
       " 'criterion': 'squared_error',\n",
       " 'max_depth': 3,\n",
       " 'max_features': None,\n",
       " 'max_leaf_nodes': None,\n",
       " 'min_impurity_decrease': 0.0,\n",
       " 'min_samples_leaf': 1,\n",
       " 'min_samples_split': 2,\n",
       " 'min_weight_fraction_leaf': 0.0,\n",
       " 'random_state': 1234,\n",
       " 'splitter': 'best'}"
      ]
     },
     "execution_count": 78,
     "metadata": {},
     "output_type": "execute_result"
    }
   ],
   "source": [
    "v_feature_name = df_train_x.columns\n",
    "tree_final = DecisionTreeRegressor(random_state=1234, max_depth = 3)\n",
    "tree_final.fit(df_train_x, df_train_y)\n",
    "tree_final.get_params()"
   ]
  },
  {
   "cell_type": "code",
   "execution_count": 79,
   "id": "fe15b6da",
   "metadata": {},
   "outputs": [
    {
     "name": "stdout",
     "output_type": "stream",
     "text": [
      "test data의 실제값 : \n",
      " 27614    535\n",
      "19622    534\n",
      "30689    536\n",
      "8494     534\n",
      "1989     533\n",
      "18935    546\n",
      "16691    537\n",
      "8784     533\n",
      "3933     536\n",
      "9852     532\n",
      "Name: dc1_capafit, dtype: int64\n",
      "test data의 예측값 : \n",
      " [534.7386423  534.7386423  536.62098139 534.7386423  532.71874026\n",
      " 544.98367347 536.62098139 532.71874026 536.62098139 532.71874026]\n"
     ]
    }
   ],
   "source": [
    "# 평가용 데이터에 대한 실제값과 예측값 확인(10개 확인)\n",
    "test_pred = tree_final.predict(df_test_x)\n",
    "print('test data의 실제값 : \\n', df_test_y[:10])\n",
    "print('test data의 예측값 : \\n', test_pred[:10])"
   ]
  },
  {
   "cell_type": "code",
   "execution_count": 80,
   "id": "360dd834",
   "metadata": {},
   "outputs": [
    {
     "data": {
      "image/svg+xml": [
       "<?xml version=\"1.0\" encoding=\"UTF-8\" standalone=\"no\"?>\n",
       "<!DOCTYPE svg PUBLIC \"-//W3C//DTD SVG 1.1//EN\"\n",
       " \"http://www.w3.org/Graphics/SVG/1.1/DTD/svg11.dtd\">\n",
       "<!-- Generated by graphviz version 2.40.1 (20161225.0304)\n",
       " -->\n",
       "<!-- Title: Tree Pages: 1 -->\n",
       "<svg width=\"1334pt\" height=\"373pt\"\n",
       " viewBox=\"0.00 0.00 1334.00 373.00\" xmlns=\"http://www.w3.org/2000/svg\" xmlns:xlink=\"http://www.w3.org/1999/xlink\">\n",
       "<g id=\"graph0\" class=\"graph\" transform=\"scale(1 1) rotate(0) translate(4 369)\">\n",
       "<title>Tree</title>\n",
       "<polygon fill=\"#ffffff\" stroke=\"transparent\" points=\"-4,4 -4,-369 1330,-369 1330,4 -4,4\"/>\n",
       "<!-- 0 -->\n",
       "<g id=\"node1\" class=\"node\">\n",
       "<title>0</title>\n",
       "<polygon fill=\"#f2c09b\" stroke=\"#000000\" points=\"742.5,-365 578.5,-365 578.5,-297 742.5,-297 742.5,-365\"/>\n",
       "<text text-anchor=\"middle\" x=\"660.5\" y=\"-349.8\" font-family=\"Helvetica,sans-Serif\" font-size=\"14.00\" fill=\"#000000\">dc1_temp_avg &lt;= 277.5</text>\n",
       "<text text-anchor=\"middle\" x=\"660.5\" y=\"-334.8\" font-family=\"Helvetica,sans-Serif\" font-size=\"14.00\" fill=\"#000000\">squared_error = 17.697</text>\n",
       "<text text-anchor=\"middle\" x=\"660.5\" y=\"-319.8\" font-family=\"Helvetica,sans-Serif\" font-size=\"14.00\" fill=\"#000000\">samples = 21713</text>\n",
       "<text text-anchor=\"middle\" x=\"660.5\" y=\"-304.8\" font-family=\"Helvetica,sans-Serif\" font-size=\"14.00\" fill=\"#000000\">value = 535.565</text>\n",
       "</g>\n",
       "<!-- 1 -->\n",
       "<g id=\"node2\" class=\"node\">\n",
       "<title>1</title>\n",
       "<polygon fill=\"#eda977\" stroke=\"#000000\" points=\"618.5,-261 454.5,-261 454.5,-193 618.5,-193 618.5,-261\"/>\n",
       "<text text-anchor=\"middle\" x=\"536.5\" y=\"-245.8\" font-family=\"Helvetica,sans-Serif\" font-size=\"14.00\" fill=\"#000000\">dc1_temp_avg &lt;= 264.5</text>\n",
       "<text text-anchor=\"middle\" x=\"536.5\" y=\"-230.8\" font-family=\"Helvetica,sans-Serif\" font-size=\"14.00\" fill=\"#000000\">squared_error = 7.435</text>\n",
       "<text text-anchor=\"middle\" x=\"536.5\" y=\"-215.8\" font-family=\"Helvetica,sans-Serif\" font-size=\"14.00\" fill=\"#000000\">samples = 10493</text>\n",
       "<text text-anchor=\"middle\" x=\"536.5\" y=\"-200.8\" font-family=\"Helvetica,sans-Serif\" font-size=\"14.00\" fill=\"#000000\">value = 539.026</text>\n",
       "</g>\n",
       "<!-- 0&#45;&gt;1 -->\n",
       "<g id=\"edge1\" class=\"edge\">\n",
       "<title>0&#45;&gt;1</title>\n",
       "<path fill=\"none\" stroke=\"#000000\" d=\"M619.8978,-296.9465C608.7644,-287.6088 596.5817,-277.3911 585.0511,-267.7203\"/>\n",
       "<polygon fill=\"#000000\" stroke=\"#000000\" points=\"587.1046,-264.8745 577.1935,-261.13 582.6062,-270.2378 587.1046,-264.8745\"/>\n",
       "<text text-anchor=\"middle\" x=\"579.3781\" y=\"-282.3344\" font-family=\"Helvetica,sans-Serif\" font-size=\"14.00\" fill=\"#000000\">True</text>\n",
       "</g>\n",
       "<!-- 8 -->\n",
       "<g id=\"node9\" class=\"node\">\n",
       "<title>8</title>\n",
       "<polygon fill=\"#f6d5bd\" stroke=\"#000000\" points=\"867.5,-261 703.5,-261 703.5,-193 867.5,-193 867.5,-261\"/>\n",
       "<text text-anchor=\"middle\" x=\"785.5\" y=\"-245.8\" font-family=\"Helvetica,sans-Serif\" font-size=\"14.00\" fill=\"#000000\">dc1_temp_avg &lt;= 291.5</text>\n",
       "<text text-anchor=\"middle\" x=\"785.5\" y=\"-230.8\" font-family=\"Helvetica,sans-Serif\" font-size=\"14.00\" fill=\"#000000\">squared_error = 5.622</text>\n",
       "<text text-anchor=\"middle\" x=\"785.5\" y=\"-215.8\" font-family=\"Helvetica,sans-Serif\" font-size=\"14.00\" fill=\"#000000\">samples = 11220</text>\n",
       "<text text-anchor=\"middle\" x=\"785.5\" y=\"-200.8\" font-family=\"Helvetica,sans-Serif\" font-size=\"14.00\" fill=\"#000000\">value = 532.329</text>\n",
       "</g>\n",
       "<!-- 0&#45;&gt;8 -->\n",
       "<g id=\"edge8\" class=\"edge\">\n",
       "<title>0&#45;&gt;8</title>\n",
       "<path fill=\"none\" stroke=\"#000000\" d=\"M701.4297,-296.9465C712.6528,-287.6088 724.9337,-277.3911 736.5573,-267.7203\"/>\n",
       "<polygon fill=\"#000000\" stroke=\"#000000\" points=\"739.0296,-270.2164 744.4784,-261.13 734.5526,-264.8353 739.0296,-270.2164\"/>\n",
       "<text text-anchor=\"middle\" x=\"742.1954\" y=\"-282.3255\" font-family=\"Helvetica,sans-Serif\" font-size=\"14.00\" fill=\"#000000\">False</text>\n",
       "</g>\n",
       "<!-- 2 -->\n",
       "<g id=\"node3\" class=\"node\">\n",
       "<title>2</title>\n",
       "<polygon fill=\"#e99458\" stroke=\"#000000\" points=\"326.5,-157 162.5,-157 162.5,-89 326.5,-89 326.5,-157\"/>\n",
       "<text text-anchor=\"middle\" x=\"244.5\" y=\"-141.8\" font-family=\"Helvetica,sans-Serif\" font-size=\"14.00\" fill=\"#000000\">dc1_temp_avg &lt;= 254.5</text>\n",
       "<text text-anchor=\"middle\" x=\"244.5\" y=\"-126.8\" font-family=\"Helvetica,sans-Serif\" font-size=\"14.00\" fill=\"#000000\">squared_error = 4.93</text>\n",
       "<text text-anchor=\"middle\" x=\"244.5\" y=\"-111.8\" font-family=\"Helvetica,sans-Serif\" font-size=\"14.00\" fill=\"#000000\">samples = 3606</text>\n",
       "<text text-anchor=\"middle\" x=\"244.5\" y=\"-96.8\" font-family=\"Helvetica,sans-Serif\" font-size=\"14.00\" fill=\"#000000\">value = 542.054</text>\n",
       "</g>\n",
       "<!-- 1&#45;&gt;2 -->\n",
       "<g id=\"edge2\" class=\"edge\">\n",
       "<title>1&#45;&gt;2</title>\n",
       "<path fill=\"none\" stroke=\"#000000\" d=\"M454.3847,-197.7534C417.5298,-184.627 373.9097,-169.0911 336.0093,-155.5923\"/>\n",
       "<polygon fill=\"#000000\" stroke=\"#000000\" points=\"337.0991,-152.2652 326.5044,-152.2071 334.7504,-158.8594 337.0991,-152.2652\"/>\n",
       "</g>\n",
       "<!-- 5 -->\n",
       "<g id=\"node6\" class=\"node\">\n",
       "<title>5</title>\n",
       "<polygon fill=\"#efb388\" stroke=\"#000000\" points=\"618.5,-157 454.5,-157 454.5,-89 618.5,-89 618.5,-157\"/>\n",
       "<text text-anchor=\"middle\" x=\"536.5\" y=\"-141.8\" font-family=\"Helvetica,sans-Serif\" font-size=\"14.00\" fill=\"#000000\">dc1_temp_avg &lt;= 270.5</text>\n",
       "<text text-anchor=\"middle\" x=\"536.5\" y=\"-126.8\" font-family=\"Helvetica,sans-Serif\" font-size=\"14.00\" fill=\"#000000\">squared_error = 1.433</text>\n",
       "<text text-anchor=\"middle\" x=\"536.5\" y=\"-111.8\" font-family=\"Helvetica,sans-Serif\" font-size=\"14.00\" fill=\"#000000\">samples = 6887</text>\n",
       "<text text-anchor=\"middle\" x=\"536.5\" y=\"-96.8\" font-family=\"Helvetica,sans-Serif\" font-size=\"14.00\" fill=\"#000000\">value = 537.44</text>\n",
       "</g>\n",
       "<!-- 1&#45;&gt;5 -->\n",
       "<g id=\"edge5\" class=\"edge\">\n",
       "<title>1&#45;&gt;5</title>\n",
       "<path fill=\"none\" stroke=\"#000000\" d=\"M536.5,-192.9465C536.5,-184.776 536.5,-175.9318 536.5,-167.3697\"/>\n",
       "<polygon fill=\"#000000\" stroke=\"#000000\" points=\"540.0001,-167.13 536.5,-157.13 533.0001,-167.13 540.0001,-167.13\"/>\n",
       "</g>\n",
       "<!-- 3 -->\n",
       "<g id=\"node4\" class=\"node\">\n",
       "<title>3</title>\n",
       "<polygon fill=\"#e58139\" stroke=\"#000000\" points=\"151,-53 0,-53 0,0 151,0 151,-53\"/>\n",
       "<text text-anchor=\"middle\" x=\"75.5\" y=\"-37.8\" font-family=\"Helvetica,sans-Serif\" font-size=\"14.00\" fill=\"#000000\">squared_error = 4.071</text>\n",
       "<text text-anchor=\"middle\" x=\"75.5\" y=\"-22.8\" font-family=\"Helvetica,sans-Serif\" font-size=\"14.00\" fill=\"#000000\">samples = 980</text>\n",
       "<text text-anchor=\"middle\" x=\"75.5\" y=\"-7.8\" font-family=\"Helvetica,sans-Serif\" font-size=\"14.00\" fill=\"#000000\">value = 544.984</text>\n",
       "</g>\n",
       "<!-- 2&#45;&gt;3 -->\n",
       "<g id=\"edge3\" class=\"edge\">\n",
       "<title>2&#45;&gt;3</title>\n",
       "<path fill=\"none\" stroke=\"#000000\" d=\"M184.9169,-88.9777C167.3561,-78.9504 148.2186,-68.0228 130.9299,-58.1508\"/>\n",
       "<polygon fill=\"#000000\" stroke=\"#000000\" points=\"132.4953,-55.0143 122.0757,-53.095 129.0242,-61.0931 132.4953,-55.0143\"/>\n",
       "</g>\n",
       "<!-- 4 -->\n",
       "<g id=\"node5\" class=\"node\">\n",
       "<title>4</title>\n",
       "<polygon fill=\"#eb9c63\" stroke=\"#000000\" points=\"320,-53 169,-53 169,0 320,0 320,-53\"/>\n",
       "<text text-anchor=\"middle\" x=\"244.5\" y=\"-37.8\" font-family=\"Helvetica,sans-Serif\" font-size=\"14.00\" fill=\"#000000\">squared_error = 0.851</text>\n",
       "<text text-anchor=\"middle\" x=\"244.5\" y=\"-22.8\" font-family=\"Helvetica,sans-Serif\" font-size=\"14.00\" fill=\"#000000\">samples = 2626</text>\n",
       "<text text-anchor=\"middle\" x=\"244.5\" y=\"-7.8\" font-family=\"Helvetica,sans-Serif\" font-size=\"14.00\" fill=\"#000000\">value = 540.96</text>\n",
       "</g>\n",
       "<!-- 2&#45;&gt;4 -->\n",
       "<g id=\"edge4\" class=\"edge\">\n",
       "<title>2&#45;&gt;4</title>\n",
       "<path fill=\"none\" stroke=\"#000000\" d=\"M244.5,-88.9777C244.5,-80.7364 244.5,-71.887 244.5,-63.5153\"/>\n",
       "<polygon fill=\"#000000\" stroke=\"#000000\" points=\"248.0001,-63.2484 244.5,-53.2485 241.0001,-63.2485 248.0001,-63.2484\"/>\n",
       "</g>\n",
       "<!-- 6 -->\n",
       "<g id=\"node7\" class=\"node\">\n",
       "<title>6</title>\n",
       "<polygon fill=\"#eeab7b\" stroke=\"#000000\" points=\"489,-53 338,-53 338,0 489,0 489,-53\"/>\n",
       "<text text-anchor=\"middle\" x=\"413.5\" y=\"-37.8\" font-family=\"Helvetica,sans-Serif\" font-size=\"14.00\" fill=\"#000000\">squared_error = 0.428</text>\n",
       "<text text-anchor=\"middle\" x=\"413.5\" y=\"-22.8\" font-family=\"Helvetica,sans-Serif\" font-size=\"14.00\" fill=\"#000000\">samples = 2750</text>\n",
       "<text text-anchor=\"middle\" x=\"413.5\" y=\"-7.8\" font-family=\"Helvetica,sans-Serif\" font-size=\"14.00\" fill=\"#000000\">value = 538.673</text>\n",
       "</g>\n",
       "<!-- 5&#45;&gt;6 -->\n",
       "<g id=\"edge6\" class=\"edge\">\n",
       "<title>5&#45;&gt;6</title>\n",
       "<path fill=\"none\" stroke=\"#000000\" d=\"M493.1348,-88.9777C480.9964,-79.4545 467.8228,-69.1191 455.7499,-59.6473\"/>\n",
       "<polygon fill=\"#000000\" stroke=\"#000000\" points=\"457.622,-56.6674 447.5939,-53.2485 453.3011,-62.1748 457.622,-56.6674\"/>\n",
       "</g>\n",
       "<!-- 7 -->\n",
       "<g id=\"node8\" class=\"node\">\n",
       "<title>7</title>\n",
       "<polygon fill=\"#f0b990\" stroke=\"#000000\" points=\"650,-53 507,-53 507,0 650,0 650,-53\"/>\n",
       "<text text-anchor=\"middle\" x=\"578.5\" y=\"-37.8\" font-family=\"Helvetica,sans-Serif\" font-size=\"14.00\" fill=\"#000000\">squared_error = 0.42</text>\n",
       "<text text-anchor=\"middle\" x=\"578.5\" y=\"-22.8\" font-family=\"Helvetica,sans-Serif\" font-size=\"14.00\" fill=\"#000000\">samples = 4137</text>\n",
       "<text text-anchor=\"middle\" x=\"578.5\" y=\"-7.8\" font-family=\"Helvetica,sans-Serif\" font-size=\"14.00\" fill=\"#000000\">value = 536.621</text>\n",
       "</g>\n",
       "<!-- 5&#45;&gt;7 -->\n",
       "<g id=\"edge7\" class=\"edge\">\n",
       "<title>5&#45;&gt;7</title>\n",
       "<path fill=\"none\" stroke=\"#000000\" d=\"M551.3076,-88.9777C555.0141,-80.4617 559.0031,-71.2963 562.7534,-62.6798\"/>\n",
       "<polygon fill=\"#000000\" stroke=\"#000000\" points=\"566.0766,-63.8145 566.8582,-53.2485 559.6582,-61.0209 566.0766,-63.8145\"/>\n",
       "</g>\n",
       "<!-- 9 -->\n",
       "<g id=\"node10\" class=\"node\">\n",
       "<title>9</title>\n",
       "<polygon fill=\"#f4cbad\" stroke=\"#000000\" points=\"867.5,-157 703.5,-157 703.5,-89 867.5,-89 867.5,-157\"/>\n",
       "<text text-anchor=\"middle\" x=\"785.5\" y=\"-141.8\" font-family=\"Helvetica,sans-Serif\" font-size=\"14.00\" fill=\"#000000\">dc1_temp_avg &lt;= 284.5</text>\n",
       "<text text-anchor=\"middle\" x=\"785.5\" y=\"-126.8\" font-family=\"Helvetica,sans-Serif\" font-size=\"14.00\" fill=\"#000000\">squared_error = 1.458</text>\n",
       "<text text-anchor=\"middle\" x=\"785.5\" y=\"-111.8\" font-family=\"Helvetica,sans-Serif\" font-size=\"14.00\" fill=\"#000000\">samples = 7037</text>\n",
       "<text text-anchor=\"middle\" x=\"785.5\" y=\"-96.8\" font-family=\"Helvetica,sans-Serif\" font-size=\"14.00\" fill=\"#000000\">value = 533.818</text>\n",
       "</g>\n",
       "<!-- 8&#45;&gt;9 -->\n",
       "<g id=\"edge9\" class=\"edge\">\n",
       "<title>8&#45;&gt;9</title>\n",
       "<path fill=\"none\" stroke=\"#000000\" d=\"M785.5,-192.9465C785.5,-184.776 785.5,-175.9318 785.5,-167.3697\"/>\n",
       "<polygon fill=\"#000000\" stroke=\"#000000\" points=\"789.0001,-167.13 785.5,-157.13 782.0001,-167.13 789.0001,-167.13\"/>\n",
       "</g>\n",
       "<!-- 12 -->\n",
       "<g id=\"node13\" class=\"node\">\n",
       "<title>12</title>\n",
       "<polygon fill=\"#fae6d7\" stroke=\"#000000\" points=\"1159.5,-157 1003.5,-157 1003.5,-89 1159.5,-89 1159.5,-157\"/>\n",
       "<text text-anchor=\"middle\" x=\"1081.5\" y=\"-141.8\" font-family=\"Helvetica,sans-Serif\" font-size=\"14.00\" fill=\"#000000\">c1_temp_avg &lt;= 302.0</text>\n",
       "<text text-anchor=\"middle\" x=\"1081.5\" y=\"-126.8\" font-family=\"Helvetica,sans-Serif\" font-size=\"14.00\" fill=\"#000000\">squared_error = 2.623</text>\n",
       "<text text-anchor=\"middle\" x=\"1081.5\" y=\"-111.8\" font-family=\"Helvetica,sans-Serif\" font-size=\"14.00\" fill=\"#000000\">samples = 4183</text>\n",
       "<text text-anchor=\"middle\" x=\"1081.5\" y=\"-96.8\" font-family=\"Helvetica,sans-Serif\" font-size=\"14.00\" fill=\"#000000\">value = 529.824</text>\n",
       "</g>\n",
       "<!-- 8&#45;&gt;12 -->\n",
       "<g id=\"edge12\" class=\"edge\">\n",
       "<title>8&#45;&gt;12</title>\n",
       "<path fill=\"none\" stroke=\"#000000\" d=\"M867.5594,-198.1683C906.8413,-184.3666 953.9135,-167.8277 993.8903,-153.7818\"/>\n",
       "<polygon fill=\"#000000\" stroke=\"#000000\" points=\"995.0861,-157.0715 1003.3605,-150.4544 992.7656,-150.4672 995.0861,-157.0715\"/>\n",
       "</g>\n",
       "<!-- 10 -->\n",
       "<g id=\"node11\" class=\"node\">\n",
       "<title>10</title>\n",
       "<polygon fill=\"#f3c5a4\" stroke=\"#000000\" points=\"819,-53 668,-53 668,0 819,0 819,-53\"/>\n",
       "<text text-anchor=\"middle\" x=\"743.5\" y=\"-37.8\" font-family=\"Helvetica,sans-Serif\" font-size=\"14.00\" fill=\"#000000\">squared_error = 0.448</text>\n",
       "<text text-anchor=\"middle\" x=\"743.5\" y=\"-22.8\" font-family=\"Helvetica,sans-Serif\" font-size=\"14.00\" fill=\"#000000\">samples = 3830</text>\n",
       "<text text-anchor=\"middle\" x=\"743.5\" y=\"-7.8\" font-family=\"Helvetica,sans-Serif\" font-size=\"14.00\" fill=\"#000000\">value = 534.739</text>\n",
       "</g>\n",
       "<!-- 9&#45;&gt;10 -->\n",
       "<g id=\"edge10\" class=\"edge\">\n",
       "<title>9&#45;&gt;10</title>\n",
       "<path fill=\"none\" stroke=\"#000000\" d=\"M770.6924,-88.9777C766.9859,-80.4617 762.9969,-71.2963 759.2466,-62.6798\"/>\n",
       "<polygon fill=\"#000000\" stroke=\"#000000\" points=\"762.3418,-61.0209 755.1418,-53.2485 755.9234,-63.8145 762.3418,-61.0209\"/>\n",
       "</g>\n",
       "<!-- 11 -->\n",
       "<g id=\"node12\" class=\"node\">\n",
       "<title>11</title>\n",
       "<polygon fill=\"#f6d2b9\" stroke=\"#000000\" points=\"988,-53 837,-53 837,0 988,0 988,-53\"/>\n",
       "<text text-anchor=\"middle\" x=\"912.5\" y=\"-37.8\" font-family=\"Helvetica,sans-Serif\" font-size=\"14.00\" fill=\"#000000\">squared_error = 0.444</text>\n",
       "<text text-anchor=\"middle\" x=\"912.5\" y=\"-22.8\" font-family=\"Helvetica,sans-Serif\" font-size=\"14.00\" fill=\"#000000\">samples = 3207</text>\n",
       "<text text-anchor=\"middle\" x=\"912.5\" y=\"-7.8\" font-family=\"Helvetica,sans-Serif\" font-size=\"14.00\" fill=\"#000000\">value = 532.719</text>\n",
       "</g>\n",
       "<!-- 9&#45;&gt;11 -->\n",
       "<g id=\"edge11\" class=\"edge\">\n",
       "<title>9&#45;&gt;11</title>\n",
       "<path fill=\"none\" stroke=\"#000000\" d=\"M830.2754,-88.9777C842.9292,-79.3629 856.6723,-68.9203 869.2353,-59.3743\"/>\n",
       "<polygon fill=\"#000000\" stroke=\"#000000\" points=\"871.4526,-62.0853 877.2973,-53.2485 867.2176,-56.5118 871.4526,-62.0853\"/>\n",
       "</g>\n",
       "<!-- 13 -->\n",
       "<g id=\"node14\" class=\"node\">\n",
       "<title>13</title>\n",
       "<polygon fill=\"#f9e3d2\" stroke=\"#000000\" points=\"1157,-53 1006,-53 1006,0 1157,0 1157,-53\"/>\n",
       "<text text-anchor=\"middle\" x=\"1081.5\" y=\"-37.8\" font-family=\"Helvetica,sans-Serif\" font-size=\"14.00\" fill=\"#000000\">squared_error = 0.838</text>\n",
       "<text text-anchor=\"middle\" x=\"1081.5\" y=\"-22.8\" font-family=\"Helvetica,sans-Serif\" font-size=\"14.00\" fill=\"#000000\">samples = 3745</text>\n",
       "<text text-anchor=\"middle\" x=\"1081.5\" y=\"-7.8\" font-family=\"Helvetica,sans-Serif\" font-size=\"14.00\" fill=\"#000000\">value = 530.271</text>\n",
       "</g>\n",
       "<!-- 12&#45;&gt;13 -->\n",
       "<g id=\"edge13\" class=\"edge\">\n",
       "<title>12&#45;&gt;13</title>\n",
       "<path fill=\"none\" stroke=\"#000000\" d=\"M1081.5,-88.9777C1081.5,-80.7364 1081.5,-71.887 1081.5,-63.5153\"/>\n",
       "<polygon fill=\"#000000\" stroke=\"#000000\" points=\"1085.0001,-63.2484 1081.5,-53.2485 1078.0001,-63.2485 1085.0001,-63.2484\"/>\n",
       "</g>\n",
       "<!-- 14 -->\n",
       "<g id=\"node15\" class=\"node\">\n",
       "<title>14</title>\n",
       "<polygon fill=\"#ffffff\" stroke=\"#000000\" points=\"1326,-53 1175,-53 1175,0 1326,0 1326,-53\"/>\n",
       "<text text-anchor=\"middle\" x=\"1250.5\" y=\"-37.8\" font-family=\"Helvetica,sans-Serif\" font-size=\"14.00\" fill=\"#000000\">squared_error = 1.568</text>\n",
       "<text text-anchor=\"middle\" x=\"1250.5\" y=\"-22.8\" font-family=\"Helvetica,sans-Serif\" font-size=\"14.00\" fill=\"#000000\">samples = 438</text>\n",
       "<text text-anchor=\"middle\" x=\"1250.5\" y=\"-7.8\" font-family=\"Helvetica,sans-Serif\" font-size=\"14.00\" fill=\"#000000\">value = 526.002</text>\n",
       "</g>\n",
       "<!-- 12&#45;&gt;14 -->\n",
       "<g id=\"edge14\" class=\"edge\">\n",
       "<title>12&#45;&gt;14</title>\n",
       "<path fill=\"none\" stroke=\"#000000\" d=\"M1141.0831,-88.9777C1158.6439,-78.9504 1177.7814,-68.0228 1195.0701,-58.1508\"/>\n",
       "<polygon fill=\"#000000\" stroke=\"#000000\" points=\"1196.9758,-61.0931 1203.9243,-53.095 1193.5047,-55.0143 1196.9758,-61.0931\"/>\n",
       "</g>\n",
       "</g>\n",
       "</svg>\n"
      ],
      "text/plain": [
       "<graphviz.sources.Source at 0x7f09a866a830>"
      ]
     },
     "metadata": {},
     "output_type": "display_data"
    },
    {
     "data": {
      "text/plain": [
       "<Figure size 700x700 with 0 Axes>"
      ]
     },
     "metadata": {},
     "output_type": "display_data"
    }
   ],
   "source": [
    "export_graphviz(tree_final, out_file=\"tree_final.dot\",\n",
    "                feature_names = v_feature_name, impurity = True, filled = True)\n",
    "\n",
    "with open(\"tree_final.dot\") as f:\n",
    "    dot_graph = f.read()\n",
    "plt.figure(figsize = (7, 7))\n",
    "display(graphviz.Source(dot_graph))"
   ]
  },
  {
   "cell_type": "code",
   "execution_count": 81,
   "id": "3f92d255",
   "metadata": {},
   "outputs": [
    {
     "data": {
      "text/html": [
       "<div>\n",
       "<style scoped>\n",
       "    .dataframe tbody tr th:only-of-type {\n",
       "        vertical-align: middle;\n",
       "    }\n",
       "\n",
       "    .dataframe tbody tr th {\n",
       "        vertical-align: top;\n",
       "    }\n",
       "\n",
       "    .dataframe thead th {\n",
       "        text-align: right;\n",
       "    }\n",
       "</style>\n",
       "<table border=\"1\" class=\"dataframe\">\n",
       "  <thead>\n",
       "    <tr style=\"text-align: right;\">\n",
       "      <th></th>\n",
       "      <th>Feature</th>\n",
       "      <th>Importance</th>\n",
       "    </tr>\n",
       "  </thead>\n",
       "  <tbody>\n",
       "    <tr>\n",
       "      <th>7</th>\n",
       "      <td>dc1_temp_avg</td>\n",
       "      <td>0.981</td>\n",
       "    </tr>\n",
       "    <tr>\n",
       "      <th>4</th>\n",
       "      <td>c1_temp_avg</td>\n",
       "      <td>0.019</td>\n",
       "    </tr>\n",
       "    <tr>\n",
       "      <th>0</th>\n",
       "      <td>c1_curr_end</td>\n",
       "      <td>0.000</td>\n",
       "    </tr>\n",
       "    <tr>\n",
       "      <th>1</th>\n",
       "      <td>c1_voltage_avg</td>\n",
       "      <td>0.000</td>\n",
       "    </tr>\n",
       "    <tr>\n",
       "      <th>2</th>\n",
       "      <td>c1_ccval</td>\n",
       "      <td>0.000</td>\n",
       "    </tr>\n",
       "    <tr>\n",
       "      <th>3</th>\n",
       "      <td>c1_time_cc</td>\n",
       "      <td>0.000</td>\n",
       "    </tr>\n",
       "    <tr>\n",
       "      <th>5</th>\n",
       "      <td>dc1_curr_end</td>\n",
       "      <td>0.000</td>\n",
       "    </tr>\n",
       "    <tr>\n",
       "      <th>6</th>\n",
       "      <td>dc1_voltage_avg</td>\n",
       "      <td>0.000</td>\n",
       "    </tr>\n",
       "  </tbody>\n",
       "</table>\n",
       "</div>"
      ],
      "text/plain": [
       "           Feature  Importance\n",
       "7     dc1_temp_avg       0.981\n",
       "4      c1_temp_avg       0.019\n",
       "0      c1_curr_end       0.000\n",
       "1   c1_voltage_avg       0.000\n",
       "2         c1_ccval       0.000\n",
       "3       c1_time_cc       0.000\n",
       "5     dc1_curr_end       0.000\n",
       "6  dc1_voltage_avg       0.000"
      ]
     },
     "execution_count": 81,
     "metadata": {},
     "output_type": "execute_result"
    }
   ],
   "source": [
    "# tree.feature_importances_로 설명변수 중요도 확인 및 테이블로 저장\n",
    "df_importance = pd.DataFrame()\n",
    "df_importance[\"Feature\"] = v_feature_name\n",
    "df_importance[\"Importance\"] = tree_final.feature_importances_\n",
    "\n",
    "# df_feature_importance의 테이블을 중요도별로 정렬\n",
    "df_importance.sort_values(\"Importance\", ascending=False, inplace = True)\n",
    "df_importance.round(3)"
   ]
  },
  {
   "cell_type": "code",
   "execution_count": 82,
   "id": "11d5900a",
   "metadata": {},
   "outputs": [
    {
     "data": {
      "text/plain": [
       "Text(0, 0.5, '변수')"
      ]
     },
     "execution_count": 82,
     "metadata": {},
     "output_type": "execute_result"
    },
    {
     "data": {
      "image/png": "[encoded data removed]",
      "text/plain": [
       "<Figure size 640x480 with 1 Axes>"
      ]
     },
     "metadata": {},
     "output_type": "display_data"
    }
   ],
   "source": [
    "# 설명변수 중요도 그래프\n",
    "# 중요도가 높은 변수를 상위에 그림\n",
    "df_importance.sort_values(\"Importance\", ascending=True, inplace = True)\n",
    "coordinates = range(len(df_importance))\n",
    "plt.barh(y = coordinates, width = df_importance[\"Importance\"])\n",
    "plt.yticks(coordinates, df_importance[\"Feature\"])\n",
    "plt.xlabel(\"변수 중요도\")\n",
    "plt.ylabel(\"변수\")"
   ]
  },
  {
   "cell_type": "markdown",
   "id": "02874303",
   "metadata": {},
   "source": [
    "### 모델평가"
   ]
  },
  {
   "cell_type": "code",
   "execution_count": 83,
   "id": "204875cc",
   "metadata": {},
   "outputs": [],
   "source": [
    "# 데이터 구성:Series, DataFrame\n",
    "import pandas as pd\n",
    "import numpy as np\n",
    "# 데이터 시각화\n",
    "import matplotlib.pyplot as plt\n",
    "import matplotlib\n",
    "\n",
    "# 데이터 분할:train, test\n",
    "from sklearn.model_selection import train_test_split\n",
    "\n",
    "# 회귀분석\n",
    "import statsmodels.formula.api as smf\n",
    "# Decision Tree\n",
    "from sklearn.tree import DecisionTreeRegressor\n",
    "# Random Forest\n",
    "from sklearn.ensemble import RandomForestRegressor\n",
    "# Gradient Boosting\n",
    "from sklearn.ensemble import GradientBoostingRegressor\n",
    "# 평가 함수\n",
    "from sklearn.metrics import mean_squared_error\n",
    "from sklearn.metrics import mean_absolute_error\n",
    "from sklearn.metrics import mean_absolute_percentage_error"
   ]
  },
  {
   "cell_type": "code",
   "execution_count": 84,
   "id": "ae050ce9",
   "metadata": {},
   "outputs": [],
   "source": [
    "# 모델 리스트, 그래프를 그리기 생성 목적\n",
    "models = [ \"의사결정나무\", \"랜덤 포레스트\", \"그래디언트 부스팅\"]\n",
    "# 평가 리스트 초기화\n",
    "mse, rmse, mae, mape = [],[],[],[]\n",
    "\n",
    "# 의사결정나무예측\n",
    "dt_y_pred = tree_final.predict(df_test_x)\n",
    "\n",
    "# 평가\n",
    "mse.append(mean_squared_error(df_test_y, dt_y_pred))\n",
    "rmse.append(mean_squared_error(df_test_y, dt_y_pred, squared=False))\n",
    "mae.append(mean_absolute_error(df_test_y, dt_y_pred))\n",
    "mape.append(mean_absolute_percentage_error(df_test_y, dt_y_pred))\n",
    "\n",
    "# 랜덤포레스트예측\n",
    "rf_y_pred = rf_final.predict(df_test_x)\n",
    "\n",
    "# 평가\n",
    "mse.append(mean_squared_error(df_test_y, rf_y_pred))\n",
    "rmse.append(mean_squared_error(df_test_y, rf_y_pred, squared=False))\n",
    "mae.append(mean_absolute_error(df_test_y, rf_y_pred))\n",
    "mape.append(mean_absolute_percentage_error(df_test_y, rf_y_pred))\n",
    "\n",
    "# 그래디언트부스팀예측\n",
    "gb_y_pred = gb_final.predict(df_test_x)\n",
    "\n",
    "# 평가\n",
    "mse.append(mean_squared_error(df_test_y, gb_y_pred))\n",
    "rmse.append(mean_squared_error(df_test_y, gb_y_pred, squared=False))\n",
    "mae.append(mean_absolute_error(df_test_y, gb_y_pred))\n",
    "mape.append(mean_absolute_percentage_error(df_test_y, gb_y_pred))"
   ]
  },
  {
   "cell_type": "code",
   "execution_count": 85,
   "id": "c05204a4",
   "metadata": {},
   "outputs": [
    {
     "name": "stdout",
     "output_type": "stream",
     "text": [
      "Model: 의사결정나무\n",
      "MSE: 0.784\n",
      "RMSE: 0.885\n",
      "MAE: 0.697\n",
      "MAPE: 0.0012989200891016669\n",
      "\n",
      "\n",
      "Model: 랜덤 포레스트\n",
      "MSE: 0.151\n",
      "RMSE: 0.388\n",
      "MAE: 0.270\n",
      "MAPE: 0.0005043677620084572\n",
      "\n",
      "\n",
      "Model: 그래디언트 부스팅\n",
      "MSE: 0.134\n",
      "RMSE: 0.366\n",
      "MAE: 0.269\n",
      "MAPE: 0.000502216084841016\n",
      "\n",
      "\n"
     ]
    }
   ],
   "source": [
    "# 결과 출력\n",
    "for i, model in enumerate(models):\n",
    "    print(f\"Model: {model}\")\n",
    "    print(f\"MSE: {mse[i]:.3f}\")\n",
    "    print(f\"RMSE: {rmse[i]:.3f}\")\n",
    "    print(f\"MAE: {mae[i]:.3f}\")\n",
    "    print(f\"MAPE: {mape[i]:}\")\n",
    "    print(\"\\n\")\n"
   ]
  },
  {
   "cell_type": "code",
   "execution_count": 86,
   "id": "72e0339d",
   "metadata": {},
   "outputs": [
    {
     "data": {
      "image/png": "[encoded data removed]",
      "text/plain": [
       "<Figure size 1300x1000 with 4 Axes>"
      ]
     },
     "metadata": {},
     "output_type": "display_data"
    }
   ],
   "source": [
    "fig, ax = plt.subplots(2,2, figsize = (13,10))\n",
    "ax[0, 0].bar(models, mse)\n",
    "ax[0, 0].set_title(\"mse\").set_fontsize(15)\n",
    "\n",
    "ax[0, 1].bar(models, rmse)\n",
    "ax[0, 1].set_title(\"rmse\").set_fontsize(15)\n",
    "\n",
    "ax[1, 0].bar(models, mae)\n",
    "ax[1, 0].set_title(\"mae\").set_fontsize(15)\n",
    "\n",
    "ax[1, 1].bar(models, mape)\n",
    "ax[1, 1].set_title(\"mape\").set_fontsize(15)"
   ]
  },
  {
   "cell_type": "markdown",
   "id": "4e97d568",
   "metadata": {},
   "source": [
    "mse: 그래디언트 부스팅 < 랜덤 포레스트 < 의사결정나무  \n",
    "rmse: 그래디언트 부스팅 < 랜덤 포레스트 < 의사결정나무  \n",
    "mae: 그래디언트 부스팅 < 랜덤 포레스트  < 의사결정나무\n",
    "mape: 그래디언트 부스팅 < 랜덤 포레스트 < 의사결정나무"
   ]
  }
 ],
 "metadata": {
  "kernelspec": {
   "display_name": "Python [conda env:base] *",
   "language": "python",
   "name": "conda-base-py"
  },
  "language_info": {
   "codemirror_mode": {
    "name": "ipython",
    "version": 3
   },
   "file_extension": ".py",
   "mimetype": "text/x-python",
   "name": "python",
   "nbconvert_exporter": "python",
   "pygments_lexer": "ipython3",
   "version": "3.10.9"
  }
 },
 "nbformat": 4,
 "nbformat_minor": 5
}
