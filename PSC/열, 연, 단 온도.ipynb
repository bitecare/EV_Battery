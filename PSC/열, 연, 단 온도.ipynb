{
 "cells": [
  {
   "cell_type": "code",
   "execution_count": 1,
   "id": "343fe84e-81cc-4cd8-87ea-43f035ca868f",
   "metadata": {},
   "outputs": [],
   "source": [
    "import pandas as pd\n",
    "import numpy as np\n",
    "import matplotlib.pyplot as plt\n",
    "import seaborn as sns\n",
    "\n",
    "from statsmodels.formula.api import ols\n",
    "from statsmodels.stats.anova import anova_lm"
   ]
  },
  {
   "cell_type": "code",
   "execution_count": 2,
   "id": "4e86de44-f183-4c87-a3db-bbd05f205d6e",
   "metadata": {},
   "outputs": [],
   "source": [
    "df = pd.read_csv(\"../DAT/data.csv\")"
   ]
  },
  {
   "cell_type": "code",
   "execution_count": 19,
   "id": "8d6e61d0-ae8f-4c2c-9145-389158a0351f",
   "metadata": {},
   "outputs": [],
   "source": [
    "cols_with_rta1 = [col for col in df.columns if 'rta1' in col]"
   ]
  },
  {
   "cell_type": "code",
   "execution_count": 23,
   "id": "9500845b-4aa5-42aa-a3d0-af1747732588",
   "metadata": {},
   "outputs": [
    {
     "name": "stdout",
     "output_type": "stream",
     "text": [
      "                   df        sum_sq       mean_sq          F        PR(>F)\n",
      "rta1_cell_no      1.0  2.919386e+10  2.919386e+10  63.442217  1.696363e-15\n",
      "Residual      38593.0  1.775913e+13  4.601645e+08        NaN           NaN\n",
      "\n",
      "                   df        sum_sq       mean_sq          F        PR(>F)\n",
      "rta1_box_col      7.0  1.371097e+11  1.958710e+10  42.819003  1.207605e-60\n",
      "Residual      38587.0  1.765121e+13  4.574394e+08        NaN           NaN\n",
      "\n",
      "                   df        sum_sq       mean_sq          F  PR(>F)\n",
      "rta1_box_row     64.0  1.441623e+12  2.252536e+10  53.093423     0.0\n",
      "Residual      38530.0  1.634670e+13  4.242590e+08        NaN     NaN\n",
      "\n",
      "                   df        sum_sq       mean_sq           F  PR(>F)\n",
      "rta1_box_dan     10.0  9.013010e+11  9.013010e+10  205.932087     0.0\n",
      "Residual      38584.0  1.688702e+13  4.376690e+08         NaN     NaN\n",
      "\n"
     ]
    }
   ],
   "source": [
    "for i in cols_with_rta1[1:]:\n",
    "    model = ols(f\"rta1_tat ~ {i}\", df).fit()\n",
    "    print(anova_lm(model))\n",
    "    print(\"\")\n"
   ]
  },
  {
   "cell_type": "code",
   "execution_count": 24,
   "id": "e02a1361-ee8d-454d-b2f9-15afe4d4d57e",
   "metadata": {},
   "outputs": [],
   "source": [
    "cols_with_rta2 = [col for col in df.columns if 'rta1' in col]"
   ]
  },
  {
   "cell_type": "code",
   "execution_count": 25,
   "id": "bf09bc0f-8707-4a5e-84dc-d3a7d86240ca",
   "metadata": {},
   "outputs": [
    {
     "name": "stdout",
     "output_type": "stream",
     "text": [
      "                   df        sum_sq       mean_sq          F        PR(>F)\n",
      "rta1_cell_no      1.0  6.125555e+10  6.125555e+10  36.917294  1.243989e-09\n",
      "Residual      38593.0  6.403599e+13  1.659264e+09        NaN           NaN\n",
      "\n",
      "                   df        sum_sq       mean_sq          F        PR(>F)\n",
      "rta1_box_col      7.0  4.112529e+11  5.875042e+10  35.596562  6.095945e-50\n",
      "Residual      38587.0  6.368599e+13  1.650452e+09        NaN           NaN\n",
      "\n",
      "                   df        sum_sq       mean_sq          F  PR(>F)\n",
      "rta1_box_row     64.0  5.397474e+12  8.433554e+10  55.357087     0.0\n",
      "Residual      38530.0  5.869977e+13  1.523482e+09        NaN     NaN\n",
      "\n",
      "                   df        sum_sq       mean_sq           F  PR(>F)\n",
      "rta1_box_dan     10.0  3.398082e+12  3.398082e+11  216.002343     0.0\n",
      "Residual      38584.0  6.069916e+13  1.573169e+09         NaN     NaN\n",
      "\n"
     ]
    }
   ],
   "source": [
    "for i in cols_with_rta2[1:]:\n",
    "    model = ols(f\"rta2_tat ~ {i}\", df).fit()\n",
    "    print(anova_lm(model))\n",
    "    print(\"\")\n"
   ]
  },
  {
   "cell_type": "code",
   "execution_count": 26,
   "id": "05f8fda8-4c2c-49ae-a7d4-2fbd0a7aa622",
   "metadata": {},
   "outputs": [],
   "source": [
    "cols_with_hta1 = [col for col in df.columns if 'hta1' in col]"
   ]
  },
  {
   "cell_type": "code",
   "execution_count": 27,
   "id": "b7a638e8-2aa2-4c3c-9f15-ad2ca0ff5d54",
   "metadata": {},
   "outputs": [
    {
     "name": "stdout",
     "output_type": "stream",
     "text": [
      "                   df        sum_sq       mean_sq            F  PR(>F)\n",
      "hta1_box_col      2.0  2.041282e+10  1.020641e+10  4286.640187     0.0\n",
      "Residual      38592.0  9.188684e+10  2.380982e+06          NaN     NaN\n",
      "\n",
      "                   df        sum_sq       mean_sq           F  PR(>F)\n",
      "hta1_box_row     54.0  2.477222e+10  4.587448e+08  201.994046     0.0\n",
      "Residual      38540.0  8.752745e+10  2.271081e+06         NaN     NaN\n",
      "\n",
      "                   df        sum_sq       mean_sq          F         PR(>F)\n",
      "hta1_box_dan      9.0  2.625687e+09  2.917430e+08  102.63971  9.996776e-191\n",
      "Residual      38585.0  1.096740e+11  2.842399e+06        NaN            NaN\n",
      "\n"
     ]
    }
   ],
   "source": [
    "for i in cols_with_hta1[1:]:\n",
    "    model = ols(f\"hta1_tat ~ {i}\", df).fit()\n",
    "    print(anova_lm(model))\n",
    "    print(\"\")\n"
   ]
  },
  {
   "cell_type": "code",
   "execution_count": 29,
   "id": "28a700b5-0415-41c6-83bc-9f42b89bb442",
   "metadata": {},
   "outputs": [
    {
     "name": "stdout",
     "output_type": "stream",
     "text": [
      "                  df        sum_sq       mean_sq          F         PR(>F)\n",
      "sa1_box_col     15.0  2.210772e+10  1.473848e+09  72.773159  5.008974e-220\n",
      "Residual     38579.0  7.813264e+11  2.025263e+07        NaN            NaN\n",
      "\n",
      "                  df        sum_sq       mean_sq          F  PR(>F)\n",
      "sa1_box_row     64.0  5.279967e+10  8.249948e+08  42.346909     0.0\n",
      "Residual     38530.0  7.506345e+11  1.948182e+07        NaN     NaN\n",
      "\n",
      "                  df        sum_sq       mean_sq          F        PR(>F)\n",
      "sa1_box_dan     12.0  8.629933e+09  7.191611e+08  34.910072  1.087576e-81\n",
      "Residual     38582.0  7.948042e+11  2.060039e+07        NaN           NaN\n",
      "\n"
     ]
    }
   ],
   "source": [
    "cols_with_sa1 = [col for col in df.columns if 'sa1' in col]\n",
    "\n",
    "for i in cols_with_sa1[1:]:\n",
    "    model = ols(f\"sa1_tat ~ {i}\", df).fit()\n",
    "    print(anova_lm(model))\n",
    "    print(\"\")\n"
   ]
  },
  {
   "cell_type": "code",
   "execution_count": 31,
   "id": "37507056-0fcb-4fb8-b733-4253efbdbdbe",
   "metadata": {},
   "outputs": [
    {
     "name": "stdout",
     "output_type": "stream",
     "text": [
      "                  df        sum_sq       mean_sq          F        PR(>F)\n",
      "sa2_box_col     15.0  3.557575e+10  2.371716e+09  22.600467  8.267526e-63\n",
      "Residual     38579.0  4.048520e+12  1.049410e+08        NaN           NaN\n",
      "\n",
      "                  df        sum_sq       mean_sq          F  PR(>F)\n",
      "sa2_box_row     64.0  2.295645e+11  3.586945e+09  35.855196     0.0\n",
      "Residual     38530.0  3.854532e+12  1.000398e+08        NaN     NaN\n",
      "\n",
      "                  df        sum_sq       mean_sq          F        PR(>F)\n",
      "sa2_box_dan     12.0  4.757583e+10  3.964652e+09  37.895069  3.316437e-89\n",
      "Residual     38582.0  4.036520e+12  1.046219e+08        NaN           NaN\n",
      "\n"
     ]
    }
   ],
   "source": [
    "cols_with_sa2 = [col for col in df.columns if 'sa2' in col]\n",
    "\n",
    "for i in cols_with_sa2[1:]:\n",
    "    model = ols(f\"sa2_tat ~ {i}\", df).fit()\n",
    "    print(anova_lm(model))\n",
    "    print(\"\")\n"
   ]
  },
  {
   "cell_type": "code",
   "execution_count": 32,
   "id": "699579ed-8392-4251-97f0-527e16b39a0a",
   "metadata": {},
   "outputs": [
    {
     "name": "stdout",
     "output_type": "stream",
     "text": [
      "                  df        sum_sq       mean_sq          F         PR(>F)\n",
      "sa3_box_col     15.0  3.237342e+10  2.158228e+09  97.982044  1.100949e-298\n",
      "Residual     38555.0  8.492422e+11  2.202677e+07        NaN            NaN\n",
      "\n",
      "                  df        sum_sq       mean_sq          F  PR(>F)\n",
      "sa3_box_row     64.0  4.158467e+10  6.497605e+08  29.784234     0.0\n",
      "Residual     38506.0  8.400309e+11  2.181558e+07        NaN     NaN\n",
      "\n",
      "                  df        sum_sq       mean_sq           F         PR(>F)\n",
      "sa3_box_dan     12.0  2.860512e+10  2.383760e+09  107.751355  5.444808e-265\n",
      "Residual     38558.0  8.530105e+11  2.212279e+07         NaN            NaN\n",
      "\n"
     ]
    }
   ],
   "source": [
    "cols_with_sa3 = [col for col in df.columns if 'sa3' in col]\n",
    "\n",
    "for i in cols_with_sa3[1:]:\n",
    "    model = ols(f\"sa3_tat ~ {i}\", df).fit()\n",
    "    print(anova_lm(model))\n",
    "    print(\"\")\n"
   ]
  },
  {
   "cell_type": "code",
   "execution_count": 3,
   "id": "0a716b0e-719c-44df-9c96-e25c426b071a",
   "metadata": {},
   "outputs": [
    {
     "data": {
      "text/html": [
       "<div>\n",
       "<style scoped>\n",
       "    .dataframe tbody tr th:only-of-type {\n",
       "        vertical-align: middle;\n",
       "    }\n",
       "\n",
       "    .dataframe tbody tr th {\n",
       "        vertical-align: top;\n",
       "    }\n",
       "\n",
       "    .dataframe thead th {\n",
       "        text-align: right;\n",
       "    }\n",
       "</style>\n",
       "<table border=\"1\" class=\"dataframe\">\n",
       "  <thead>\n",
       "    <tr style=\"text-align: right;\">\n",
       "      <th></th>\n",
       "      <th>c1_box_col</th>\n",
       "      <th>c1_box_dan</th>\n",
       "      <th>c1_temp_avg</th>\n",
       "    </tr>\n",
       "  </thead>\n",
       "  <tbody>\n",
       "    <tr>\n",
       "      <th>0</th>\n",
       "      <td>06열</td>\n",
       "      <td>09단</td>\n",
       "      <td>291</td>\n",
       "    </tr>\n",
       "    <tr>\n",
       "      <th>1</th>\n",
       "      <td>06열</td>\n",
       "      <td>09단</td>\n",
       "      <td>291</td>\n",
       "    </tr>\n",
       "    <tr>\n",
       "      <th>2</th>\n",
       "      <td>06열</td>\n",
       "      <td>09단</td>\n",
       "      <td>291</td>\n",
       "    </tr>\n",
       "    <tr>\n",
       "      <th>3</th>\n",
       "      <td>06열</td>\n",
       "      <td>09단</td>\n",
       "      <td>291</td>\n",
       "    </tr>\n",
       "    <tr>\n",
       "      <th>4</th>\n",
       "      <td>06열</td>\n",
       "      <td>09단</td>\n",
       "      <td>291</td>\n",
       "    </tr>\n",
       "    <tr>\n",
       "      <th>...</th>\n",
       "      <td>...</td>\n",
       "      <td>...</td>\n",
       "      <td>...</td>\n",
       "    </tr>\n",
       "    <tr>\n",
       "      <th>38590</th>\n",
       "      <td>02열</td>\n",
       "      <td>05단</td>\n",
       "      <td>255</td>\n",
       "    </tr>\n",
       "    <tr>\n",
       "      <th>38591</th>\n",
       "      <td>02열</td>\n",
       "      <td>05단</td>\n",
       "      <td>255</td>\n",
       "    </tr>\n",
       "    <tr>\n",
       "      <th>38592</th>\n",
       "      <td>02열</td>\n",
       "      <td>05단</td>\n",
       "      <td>255</td>\n",
       "    </tr>\n",
       "    <tr>\n",
       "      <th>38593</th>\n",
       "      <td>02열</td>\n",
       "      <td>05단</td>\n",
       "      <td>255</td>\n",
       "    </tr>\n",
       "    <tr>\n",
       "      <th>38594</th>\n",
       "      <td>02열</td>\n",
       "      <td>05단</td>\n",
       "      <td>255</td>\n",
       "    </tr>\n",
       "  </tbody>\n",
       "</table>\n",
       "<p>38595 rows × 3 columns</p>\n",
       "</div>"
      ],
      "text/plain": [
       "      c1_box_col c1_box_dan  c1_temp_avg\n",
       "0            06열        09단          291\n",
       "1            06열        09단          291\n",
       "2            06열        09단          291\n",
       "3            06열        09단          291\n",
       "4            06열        09단          291\n",
       "...          ...        ...          ...\n",
       "38590        02열        05단          255\n",
       "38591        02열        05단          255\n",
       "38592        02열        05단          255\n",
       "38593        02열        05단          255\n",
       "38594        02열        05단          255\n",
       "\n",
       "[38595 rows x 3 columns]"
      ]
     },
     "execution_count": 3,
     "metadata": {},
     "output_type": "execute_result"
    }
   ],
   "source": [
    "df[[\"c1_box_col\", \"c1_box_dan\", \"c1_temp_avg\"]]"
   ]
  },
  {
   "cell_type": "code",
   "execution_count": 6,
   "id": "5a7e7f5d-435e-4aff-bfc7-e48a0b91d0aa",
   "metadata": {},
   "outputs": [],
   "source": [
    "df.groupby([\"c1_box_col\", \"c1_box_dan\"], as_index=False)[\"c1_temp_avg\"].mean().to_csv(\"../OUT/열연단온도불량률.csv\", index=False)"
   ]
  },
  {
   "cell_type": "code",
   "execution_count": 7,
   "id": "1b67b00a-3d0a-45bc-b256-5d17007d07a1",
   "metadata": {},
   "outputs": [],
   "source": [
    "df[[\"c1_box_col\", \"c1_box_dan\", \"c1_temp_avg\"]].to_csv(\"../OUT/열연단온도불량률1.csv\", index=False)"
   ]
  },
  {
   "cell_type": "code",
   "execution_count": null,
   "id": "2ee622b1-b206-4360-9d0a-b25a925c0430",
   "metadata": {},
   "outputs": [],
   "source": []
  }
 ],
 "metadata": {
  "kernelspec": {
   "display_name": "Python 3 (ipykernel)",
   "language": "python",
   "name": "python3"
  },
  "language_info": {
   "codemirror_mode": {
    "name": "ipython",
    "version": 3
   },
   "file_extension": ".py",
   "mimetype": "text/x-python",
   "name": "python",
   "nbconvert_exporter": "python",
   "pygments_lexer": "ipython3",
   "version": "3.11.7"
  }
 },
 "nbformat": 4,
 "nbformat_minor": 5
}
