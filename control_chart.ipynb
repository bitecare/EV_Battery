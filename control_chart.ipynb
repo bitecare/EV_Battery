{
 "cells": [
  {
   "cell_type": "code",
   "execution_count": 1,
   "id": "53ba0604-67d3-4e42-857f-d2eb3836fb2d",
   "metadata": {},
   "outputs": [],
   "source": [
    "import pandas as pd"
   ]
  },
  {
   "cell_type": "code",
   "execution_count": 2,
   "id": "3c324bae-b66a-4773-bebd-ff80654c7572",
   "metadata": {},
   "outputs": [],
   "source": [
    "df = pd.read_csv(\"../OUT/data_fin.csv\")"
   ]
  },
  {
   "cell_type": "code",
   "execution_count": 37,
   "id": "fdbefbfc-5c68-49a9-b40f-8ff3ee5f4cb2",
   "metadata": {},
   "outputs": [],
   "source": [
    "selected_before = range(3770, 3770 + 60 * 50, 60)\n",
    "#selected_after = range(7000, 7000 + 60 * 50, 60)\n",
    "before = df[\"dc1_temp_avg\"][selected_before].reset_index(drop=True)\n",
    "\n",
    "df2 = df[(df[\"dc1_temp_avg\"] >= 270) & (df[\"dc1_temp_avg\"] <= 290)].reset_index(drop=True)\n",
    "selected_after = range(1000, 1000 + 60 * 50, 60)\n",
    "after = df2[\"dc1_temp_avg\"][selected_after].reset_index(drop=True)\n",
    "\n",
    "data = pd.DataFrame()\n",
    "data[\"before\"] = before/10\n",
    "data[\"after\"] = after/10\n",
    "data\n",
    "data.to_csv(\"../OUT/control_chart.csv\", index = False)\n"
   ]
  }
 ],
 "metadata": {
  "kernelspec": {
   "display_name": "Python 3 (ipykernel)",
   "language": "python",
   "name": "python3"
  },
  "language_info": {
   "codemirror_mode": {
    "name": "ipython",
    "version": 3
   },
   "file_extension": ".py",
   "mimetype": "text/x-python",
   "name": "python",
   "nbconvert_exporter": "python",
   "pygments_lexer": "ipython3",
   "version": "3.11.7"
  }
 },
 "nbformat": 4,
 "nbformat_minor": 5
}
